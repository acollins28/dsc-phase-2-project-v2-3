{
 "cells": [
  {
   "cell_type": "markdown",
   "metadata": {},
   "source": [
    "# Phase 2 Project Submission"
   ]
  },
  {
   "cell_type": "markdown",
   "metadata": {},
   "source": [
    "Austin Collins <br>\n",
    "Self-Paced <br>\n",
    "Reviewed on July 18, 2022 at 12:00 pm CST <br>\n",
    "Instructor Name: Claude Fried <br>\n",
    "Reviewing Instructor: Morgan Jones <br>\n",
    "Blog Post URL:"
   ]
  },
  {
   "cell_type": "markdown",
   "metadata": {},
   "source": [
    "## Introduction"
   ]
  },
  {
   "cell_type": "markdown",
   "metadata": {},
   "source": [
    "Homeowners who are looking to sell their homes have a chance to take in more money than they paid for it. For many families, it's one of the few opportunities they have to make several, if not tens of thousands of dollars in one move. When so much is at stake, they turn to professionals (i.e. real estate agents) for advice on how to get a fair price and make the most of this opprtunity. \n",
    "\n",
    "This notebook will determine what the most important factors are that dive home prices. With this information, a real estate agent in King County, Oregon can tell their client what they can do to increase the value of their home before they put it on the market.\n",
    "\n",
    "To start, we'll import the necessary libraries to do our analysis, and then take a preliminary look at the data."
   ]
  },
  {
   "cell_type": "code",
   "execution_count": 36,
   "metadata": {},
   "outputs": [],
   "source": [
    "import pandas as pd\n",
    "from pandasql import sqldf\n",
    "pysqldf = lambda q: sqldf(q, globals())\n",
    "import numpy as np\n",
    "import matplotlib.pyplot as plt\n",
    "import seaborn as sns\n",
    "import statsmodels.api as sm\n",
    "import statsmodels.formula.api as smf\n",
    "import statsmodels.stats.api as sms\n",
    "from statsmodels.compat import lzip\n",
    "import statsmodels\n",
    "import matplotlib.pyplot as plt\n",
    "from scipy.special import logsumexp\n",
    "from sklearn.preprocessing import OneHotEncoder, StandardScaler\n",
    "from sklearn.datasets import make_regression\n",
    "from sklearn.linear_model import LinearRegression\n",
    "import sklearn.metrics as metrics\n",
    "from scipy import stats as stats\n",
    "from statsmodels.stats.outliers_influence import variance_inflation_factor\n",
    "%matplotlib inline"
   ]
  },
  {
   "cell_type": "markdown",
   "metadata": {},
   "source": [
    "## EDA"
   ]
  },
  {
   "cell_type": "markdown",
   "metadata": {},
   "source": [
    "We'll start by seeing bringing in our data set which includes home sales data from King County, Oregon, and see what kinds of columns we have."
   ]
  },
  {
   "cell_type": "code",
   "execution_count": 37,
   "metadata": {},
   "outputs": [
    {
     "data": {
      "text/html": [
       "<div>\n",
       "<style scoped>\n",
       "    .dataframe tbody tr th:only-of-type {\n",
       "        vertical-align: middle;\n",
       "    }\n",
       "\n",
       "    .dataframe tbody tr th {\n",
       "        vertical-align: top;\n",
       "    }\n",
       "\n",
       "    .dataframe thead th {\n",
       "        text-align: right;\n",
       "    }\n",
       "</style>\n",
       "<table border=\"1\" class=\"dataframe\">\n",
       "  <thead>\n",
       "    <tr style=\"text-align: right;\">\n",
       "      <th></th>\n",
       "      <th>id</th>\n",
       "      <th>date</th>\n",
       "      <th>price</th>\n",
       "      <th>bedrooms</th>\n",
       "      <th>bathrooms</th>\n",
       "      <th>sqft_living</th>\n",
       "      <th>sqft_lot</th>\n",
       "      <th>floors</th>\n",
       "      <th>waterfront</th>\n",
       "      <th>view</th>\n",
       "      <th>...</th>\n",
       "      <th>grade</th>\n",
       "      <th>sqft_above</th>\n",
       "      <th>sqft_basement</th>\n",
       "      <th>yr_built</th>\n",
       "      <th>yr_renovated</th>\n",
       "      <th>zipcode</th>\n",
       "      <th>lat</th>\n",
       "      <th>long</th>\n",
       "      <th>sqft_living15</th>\n",
       "      <th>sqft_lot15</th>\n",
       "    </tr>\n",
       "  </thead>\n",
       "  <tbody>\n",
       "    <tr>\n",
       "      <th>0</th>\n",
       "      <td>7129300520</td>\n",
       "      <td>10/13/2014</td>\n",
       "      <td>221900.0</td>\n",
       "      <td>3</td>\n",
       "      <td>1.00</td>\n",
       "      <td>1180</td>\n",
       "      <td>5650</td>\n",
       "      <td>1.0</td>\n",
       "      <td>NaN</td>\n",
       "      <td>NONE</td>\n",
       "      <td>...</td>\n",
       "      <td>7 Average</td>\n",
       "      <td>1180</td>\n",
       "      <td>0.0</td>\n",
       "      <td>1955</td>\n",
       "      <td>0.0</td>\n",
       "      <td>98178</td>\n",
       "      <td>47.5112</td>\n",
       "      <td>-122.257</td>\n",
       "      <td>1340</td>\n",
       "      <td>5650</td>\n",
       "    </tr>\n",
       "    <tr>\n",
       "      <th>1</th>\n",
       "      <td>6414100192</td>\n",
       "      <td>12/9/2014</td>\n",
       "      <td>538000.0</td>\n",
       "      <td>3</td>\n",
       "      <td>2.25</td>\n",
       "      <td>2570</td>\n",
       "      <td>7242</td>\n",
       "      <td>2.0</td>\n",
       "      <td>NO</td>\n",
       "      <td>NONE</td>\n",
       "      <td>...</td>\n",
       "      <td>7 Average</td>\n",
       "      <td>2170</td>\n",
       "      <td>400.0</td>\n",
       "      <td>1951</td>\n",
       "      <td>1991.0</td>\n",
       "      <td>98125</td>\n",
       "      <td>47.7210</td>\n",
       "      <td>-122.319</td>\n",
       "      <td>1690</td>\n",
       "      <td>7639</td>\n",
       "    </tr>\n",
       "    <tr>\n",
       "      <th>2</th>\n",
       "      <td>5631500400</td>\n",
       "      <td>2/25/2015</td>\n",
       "      <td>180000.0</td>\n",
       "      <td>2</td>\n",
       "      <td>1.00</td>\n",
       "      <td>770</td>\n",
       "      <td>10000</td>\n",
       "      <td>1.0</td>\n",
       "      <td>NO</td>\n",
       "      <td>NONE</td>\n",
       "      <td>...</td>\n",
       "      <td>6 Low Average</td>\n",
       "      <td>770</td>\n",
       "      <td>0.0</td>\n",
       "      <td>1933</td>\n",
       "      <td>NaN</td>\n",
       "      <td>98028</td>\n",
       "      <td>47.7379</td>\n",
       "      <td>-122.233</td>\n",
       "      <td>2720</td>\n",
       "      <td>8062</td>\n",
       "    </tr>\n",
       "    <tr>\n",
       "      <th>3</th>\n",
       "      <td>2487200875</td>\n",
       "      <td>12/9/2014</td>\n",
       "      <td>604000.0</td>\n",
       "      <td>4</td>\n",
       "      <td>3.00</td>\n",
       "      <td>1960</td>\n",
       "      <td>5000</td>\n",
       "      <td>1.0</td>\n",
       "      <td>NO</td>\n",
       "      <td>NONE</td>\n",
       "      <td>...</td>\n",
       "      <td>7 Average</td>\n",
       "      <td>1050</td>\n",
       "      <td>910.0</td>\n",
       "      <td>1965</td>\n",
       "      <td>0.0</td>\n",
       "      <td>98136</td>\n",
       "      <td>47.5208</td>\n",
       "      <td>-122.393</td>\n",
       "      <td>1360</td>\n",
       "      <td>5000</td>\n",
       "    </tr>\n",
       "    <tr>\n",
       "      <th>4</th>\n",
       "      <td>1954400510</td>\n",
       "      <td>2/18/2015</td>\n",
       "      <td>510000.0</td>\n",
       "      <td>3</td>\n",
       "      <td>2.00</td>\n",
       "      <td>1680</td>\n",
       "      <td>8080</td>\n",
       "      <td>1.0</td>\n",
       "      <td>NO</td>\n",
       "      <td>NONE</td>\n",
       "      <td>...</td>\n",
       "      <td>8 Good</td>\n",
       "      <td>1680</td>\n",
       "      <td>0.0</td>\n",
       "      <td>1987</td>\n",
       "      <td>0.0</td>\n",
       "      <td>98074</td>\n",
       "      <td>47.6168</td>\n",
       "      <td>-122.045</td>\n",
       "      <td>1800</td>\n",
       "      <td>7503</td>\n",
       "    </tr>\n",
       "  </tbody>\n",
       "</table>\n",
       "<p>5 rows × 21 columns</p>\n",
       "</div>"
      ],
      "text/plain": [
       "           id        date     price  bedrooms  bathrooms  sqft_living  \\\n",
       "0  7129300520  10/13/2014  221900.0         3       1.00         1180   \n",
       "1  6414100192   12/9/2014  538000.0         3       2.25         2570   \n",
       "2  5631500400   2/25/2015  180000.0         2       1.00          770   \n",
       "3  2487200875   12/9/2014  604000.0         4       3.00         1960   \n",
       "4  1954400510   2/18/2015  510000.0         3       2.00         1680   \n",
       "\n",
       "   sqft_lot  floors waterfront  view  ...          grade sqft_above  \\\n",
       "0      5650     1.0        NaN  NONE  ...      7 Average       1180   \n",
       "1      7242     2.0         NO  NONE  ...      7 Average       2170   \n",
       "2     10000     1.0         NO  NONE  ...  6 Low Average        770   \n",
       "3      5000     1.0         NO  NONE  ...      7 Average       1050   \n",
       "4      8080     1.0         NO  NONE  ...         8 Good       1680   \n",
       "\n",
       "   sqft_basement yr_built  yr_renovated  zipcode      lat     long  \\\n",
       "0            0.0     1955           0.0    98178  47.5112 -122.257   \n",
       "1          400.0     1951        1991.0    98125  47.7210 -122.319   \n",
       "2            0.0     1933           NaN    98028  47.7379 -122.233   \n",
       "3          910.0     1965           0.0    98136  47.5208 -122.393   \n",
       "4            0.0     1987           0.0    98074  47.6168 -122.045   \n",
       "\n",
       "   sqft_living15  sqft_lot15  \n",
       "0           1340        5650  \n",
       "1           1690        7639  \n",
       "2           2720        8062  \n",
       "3           1360        5000  \n",
       "4           1800        7503  \n",
       "\n",
       "[5 rows x 21 columns]"
      ]
     },
     "execution_count": 37,
     "metadata": {},
     "output_type": "execute_result"
    }
   ],
   "source": [
    "df = pd.read_csv('data/kc_house_data.csv') #adds data from csv file into a Pandas dataframe to make it easier to work with\n",
    "\n",
    "df.head() #gives information about first 5 rows in the table"
   ]
  },
  {
   "cell_type": "markdown",
   "metadata": {},
   "source": [
    "We see information about date sold, price, bedrooms and bathrooms, size, location, views, whether or not the property is by the water, and some information about sales comparable in the sqft_living15 and sqft_lot15 columns. These give details about the average lot size and living space of the 15 homes closest to that house.\n",
    "\n",
    "We also see data about condition and grade. Per the informational document found [here]('https://github.com/acollins28/dsc-phase-2-project-v2-3/blob/main/data/column_names.md'), \"grade\" has to do with the quality of the materials used to build the home, while \"condition\" refers to the cleanliness of the home.\n",
    "\n",
    "Sqft_above refers to the square footage of the home above the basement.\n",
    "\n",
    "Next we can look at some of the overarching information about the data within these columns, such as mean, minimum values, maximum values, standard deviations, etc. We can use the .describe() method to do just that."
   ]
  },
  {
   "cell_type": "code",
   "execution_count": 38,
   "metadata": {},
   "outputs": [
    {
     "data": {
      "text/html": [
       "<div>\n",
       "<style scoped>\n",
       "    .dataframe tbody tr th:only-of-type {\n",
       "        vertical-align: middle;\n",
       "    }\n",
       "\n",
       "    .dataframe tbody tr th {\n",
       "        vertical-align: top;\n",
       "    }\n",
       "\n",
       "    .dataframe thead th {\n",
       "        text-align: right;\n",
       "    }\n",
       "</style>\n",
       "<table border=\"1\" class=\"dataframe\">\n",
       "  <thead>\n",
       "    <tr style=\"text-align: right;\">\n",
       "      <th></th>\n",
       "      <th>id</th>\n",
       "      <th>price</th>\n",
       "      <th>bedrooms</th>\n",
       "      <th>bathrooms</th>\n",
       "      <th>sqft_living</th>\n",
       "      <th>sqft_lot</th>\n",
       "      <th>floors</th>\n",
       "      <th>sqft_above</th>\n",
       "      <th>yr_built</th>\n",
       "      <th>yr_renovated</th>\n",
       "      <th>zipcode</th>\n",
       "      <th>lat</th>\n",
       "      <th>long</th>\n",
       "      <th>sqft_living15</th>\n",
       "      <th>sqft_lot15</th>\n",
       "    </tr>\n",
       "  </thead>\n",
       "  <tbody>\n",
       "    <tr>\n",
       "      <th>count</th>\n",
       "      <td>2.159700e+04</td>\n",
       "      <td>2.159700e+04</td>\n",
       "      <td>21597.000000</td>\n",
       "      <td>21597.000000</td>\n",
       "      <td>21597.000000</td>\n",
       "      <td>2.159700e+04</td>\n",
       "      <td>21597.000000</td>\n",
       "      <td>21597.000000</td>\n",
       "      <td>21597.000000</td>\n",
       "      <td>17755.000000</td>\n",
       "      <td>21597.000000</td>\n",
       "      <td>21597.000000</td>\n",
       "      <td>21597.000000</td>\n",
       "      <td>21597.000000</td>\n",
       "      <td>21597.000000</td>\n",
       "    </tr>\n",
       "    <tr>\n",
       "      <th>mean</th>\n",
       "      <td>4.580474e+09</td>\n",
       "      <td>5.402966e+05</td>\n",
       "      <td>3.373200</td>\n",
       "      <td>2.115826</td>\n",
       "      <td>2080.321850</td>\n",
       "      <td>1.509941e+04</td>\n",
       "      <td>1.494096</td>\n",
       "      <td>1788.596842</td>\n",
       "      <td>1970.999676</td>\n",
       "      <td>83.636778</td>\n",
       "      <td>98077.951845</td>\n",
       "      <td>47.560093</td>\n",
       "      <td>-122.213982</td>\n",
       "      <td>1986.620318</td>\n",
       "      <td>12758.283512</td>\n",
       "    </tr>\n",
       "    <tr>\n",
       "      <th>std</th>\n",
       "      <td>2.876736e+09</td>\n",
       "      <td>3.673681e+05</td>\n",
       "      <td>0.926299</td>\n",
       "      <td>0.768984</td>\n",
       "      <td>918.106125</td>\n",
       "      <td>4.141264e+04</td>\n",
       "      <td>0.539683</td>\n",
       "      <td>827.759761</td>\n",
       "      <td>29.375234</td>\n",
       "      <td>399.946414</td>\n",
       "      <td>53.513072</td>\n",
       "      <td>0.138552</td>\n",
       "      <td>0.140724</td>\n",
       "      <td>685.230472</td>\n",
       "      <td>27274.441950</td>\n",
       "    </tr>\n",
       "    <tr>\n",
       "      <th>min</th>\n",
       "      <td>1.000102e+06</td>\n",
       "      <td>7.800000e+04</td>\n",
       "      <td>1.000000</td>\n",
       "      <td>0.500000</td>\n",
       "      <td>370.000000</td>\n",
       "      <td>5.200000e+02</td>\n",
       "      <td>1.000000</td>\n",
       "      <td>370.000000</td>\n",
       "      <td>1900.000000</td>\n",
       "      <td>0.000000</td>\n",
       "      <td>98001.000000</td>\n",
       "      <td>47.155900</td>\n",
       "      <td>-122.519000</td>\n",
       "      <td>399.000000</td>\n",
       "      <td>651.000000</td>\n",
       "    </tr>\n",
       "    <tr>\n",
       "      <th>25%</th>\n",
       "      <td>2.123049e+09</td>\n",
       "      <td>3.220000e+05</td>\n",
       "      <td>3.000000</td>\n",
       "      <td>1.750000</td>\n",
       "      <td>1430.000000</td>\n",
       "      <td>5.040000e+03</td>\n",
       "      <td>1.000000</td>\n",
       "      <td>1190.000000</td>\n",
       "      <td>1951.000000</td>\n",
       "      <td>0.000000</td>\n",
       "      <td>98033.000000</td>\n",
       "      <td>47.471100</td>\n",
       "      <td>-122.328000</td>\n",
       "      <td>1490.000000</td>\n",
       "      <td>5100.000000</td>\n",
       "    </tr>\n",
       "    <tr>\n",
       "      <th>50%</th>\n",
       "      <td>3.904930e+09</td>\n",
       "      <td>4.500000e+05</td>\n",
       "      <td>3.000000</td>\n",
       "      <td>2.250000</td>\n",
       "      <td>1910.000000</td>\n",
       "      <td>7.618000e+03</td>\n",
       "      <td>1.500000</td>\n",
       "      <td>1560.000000</td>\n",
       "      <td>1975.000000</td>\n",
       "      <td>0.000000</td>\n",
       "      <td>98065.000000</td>\n",
       "      <td>47.571800</td>\n",
       "      <td>-122.231000</td>\n",
       "      <td>1840.000000</td>\n",
       "      <td>7620.000000</td>\n",
       "    </tr>\n",
       "    <tr>\n",
       "      <th>75%</th>\n",
       "      <td>7.308900e+09</td>\n",
       "      <td>6.450000e+05</td>\n",
       "      <td>4.000000</td>\n",
       "      <td>2.500000</td>\n",
       "      <td>2550.000000</td>\n",
       "      <td>1.068500e+04</td>\n",
       "      <td>2.000000</td>\n",
       "      <td>2210.000000</td>\n",
       "      <td>1997.000000</td>\n",
       "      <td>0.000000</td>\n",
       "      <td>98118.000000</td>\n",
       "      <td>47.678000</td>\n",
       "      <td>-122.125000</td>\n",
       "      <td>2360.000000</td>\n",
       "      <td>10083.000000</td>\n",
       "    </tr>\n",
       "    <tr>\n",
       "      <th>max</th>\n",
       "      <td>9.900000e+09</td>\n",
       "      <td>7.700000e+06</td>\n",
       "      <td>33.000000</td>\n",
       "      <td>8.000000</td>\n",
       "      <td>13540.000000</td>\n",
       "      <td>1.651359e+06</td>\n",
       "      <td>3.500000</td>\n",
       "      <td>9410.000000</td>\n",
       "      <td>2015.000000</td>\n",
       "      <td>2015.000000</td>\n",
       "      <td>98199.000000</td>\n",
       "      <td>47.777600</td>\n",
       "      <td>-121.315000</td>\n",
       "      <td>6210.000000</td>\n",
       "      <td>871200.000000</td>\n",
       "    </tr>\n",
       "  </tbody>\n",
       "</table>\n",
       "</div>"
      ],
      "text/plain": [
       "                 id         price      bedrooms     bathrooms   sqft_living  \\\n",
       "count  2.159700e+04  2.159700e+04  21597.000000  21597.000000  21597.000000   \n",
       "mean   4.580474e+09  5.402966e+05      3.373200      2.115826   2080.321850   \n",
       "std    2.876736e+09  3.673681e+05      0.926299      0.768984    918.106125   \n",
       "min    1.000102e+06  7.800000e+04      1.000000      0.500000    370.000000   \n",
       "25%    2.123049e+09  3.220000e+05      3.000000      1.750000   1430.000000   \n",
       "50%    3.904930e+09  4.500000e+05      3.000000      2.250000   1910.000000   \n",
       "75%    7.308900e+09  6.450000e+05      4.000000      2.500000   2550.000000   \n",
       "max    9.900000e+09  7.700000e+06     33.000000      8.000000  13540.000000   \n",
       "\n",
       "           sqft_lot        floors    sqft_above      yr_built  yr_renovated  \\\n",
       "count  2.159700e+04  21597.000000  21597.000000  21597.000000  17755.000000   \n",
       "mean   1.509941e+04      1.494096   1788.596842   1970.999676     83.636778   \n",
       "std    4.141264e+04      0.539683    827.759761     29.375234    399.946414   \n",
       "min    5.200000e+02      1.000000    370.000000   1900.000000      0.000000   \n",
       "25%    5.040000e+03      1.000000   1190.000000   1951.000000      0.000000   \n",
       "50%    7.618000e+03      1.500000   1560.000000   1975.000000      0.000000   \n",
       "75%    1.068500e+04      2.000000   2210.000000   1997.000000      0.000000   \n",
       "max    1.651359e+06      3.500000   9410.000000   2015.000000   2015.000000   \n",
       "\n",
       "            zipcode           lat          long  sqft_living15     sqft_lot15  \n",
       "count  21597.000000  21597.000000  21597.000000   21597.000000   21597.000000  \n",
       "mean   98077.951845     47.560093   -122.213982    1986.620318   12758.283512  \n",
       "std       53.513072      0.138552      0.140724     685.230472   27274.441950  \n",
       "min    98001.000000     47.155900   -122.519000     399.000000     651.000000  \n",
       "25%    98033.000000     47.471100   -122.328000    1490.000000    5100.000000  \n",
       "50%    98065.000000     47.571800   -122.231000    1840.000000    7620.000000  \n",
       "75%    98118.000000     47.678000   -122.125000    2360.000000   10083.000000  \n",
       "max    98199.000000     47.777600   -121.315000    6210.000000  871200.000000  "
      ]
     },
     "execution_count": 38,
     "metadata": {},
     "output_type": "execute_result"
    }
   ],
   "source": [
    "df.describe()"
   ]
  },
  {
   "cell_type": "markdown",
   "metadata": {},
   "source": [
    "This is gives us a great overview of the data we have. A few kay takeaways are:\n",
    "\n",
    " - homes are priced between 78,000 and 7,700,000 dollars\n",
    " - most homes are between 322,000 and 645,000 dollars\n",
    " - the avereage home has 3.3 bedrooms and 2.1 bathrooms, with about 2,080 living square footage\n",
    " - all homes are between 1 and 3.5 floors\n",
    " - the average home was built around 1971, but some are over 100 years old"
   ]
  },
  {
   "cell_type": "markdown",
   "metadata": {},
   "source": [
    "I noticed that there is a home listed as having 33 bedrooms. Either that's an extreme outlier, or some sort of input error. We will investigate that later.\n",
    "\n",
    "So now that we have a basic understanding of the data we're working with, we can dive into some more information that we will need in order to build a model later. By using the .info() method, we can pull up information about missing data values, how many rows of data we have, and whether values are being read as text or as numerical data."
   ]
  },
  {
   "cell_type": "code",
   "execution_count": 39,
   "metadata": {
    "scrolled": false
   },
   "outputs": [
    {
     "name": "stdout",
     "output_type": "stream",
     "text": [
      "<class 'pandas.core.frame.DataFrame'>\n",
      "RangeIndex: 21597 entries, 0 to 21596\n",
      "Data columns (total 21 columns):\n",
      " #   Column         Non-Null Count  Dtype  \n",
      "---  ------         --------------  -----  \n",
      " 0   id             21597 non-null  int64  \n",
      " 1   date           21597 non-null  object \n",
      " 2   price          21597 non-null  float64\n",
      " 3   bedrooms       21597 non-null  int64  \n",
      " 4   bathrooms      21597 non-null  float64\n",
      " 5   sqft_living    21597 non-null  int64  \n",
      " 6   sqft_lot       21597 non-null  int64  \n",
      " 7   floors         21597 non-null  float64\n",
      " 8   waterfront     19221 non-null  object \n",
      " 9   view           21534 non-null  object \n",
      " 10  condition      21597 non-null  object \n",
      " 11  grade          21597 non-null  object \n",
      " 12  sqft_above     21597 non-null  int64  \n",
      " 13  sqft_basement  21597 non-null  object \n",
      " 14  yr_built       21597 non-null  int64  \n",
      " 15  yr_renovated   17755 non-null  float64\n",
      " 16  zipcode        21597 non-null  int64  \n",
      " 17  lat            21597 non-null  float64\n",
      " 18  long           21597 non-null  float64\n",
      " 19  sqft_living15  21597 non-null  int64  \n",
      " 20  sqft_lot15     21597 non-null  int64  \n",
      "dtypes: float64(6), int64(9), object(6)\n",
      "memory usage: 3.5+ MB\n"
     ]
    }
   ],
   "source": [
    "df.info()"
   ]
  },
  {
   "cell_type": "markdown",
   "metadata": {},
   "source": [
    "We have 21,597 rows of data, meaning we have information about 21,597 homes. That is plenty of data with which to build a model.\n",
    "\n",
    "However, not every row has complete information about a given home, such as 'yr_renovated' having fewer than 21,597 non-nulls.\n",
    "\n",
    "Furthermore, not all columns of data are being read as quantiative data. In this case, some columns are being read as numbers, whether that's in integer form or float (numbers with decimals) form, while others are being read as text inputs, or objects."
   ]
  },
  {
   "cell_type": "markdown",
   "metadata": {},
   "source": [
    "It looks like we'll have to convert some columns with qualitative data (such as view, waterfront, and condition) into integers or floats so we can build models with them. We'll also have to replace null values for the waterfront, view, and yr_renovated columns."
   ]
  },
  {
   "cell_type": "markdown",
   "metadata": {},
   "source": [
    "## Filling Null Values"
   ]
  },
  {
   "cell_type": "code",
   "execution_count": 40,
   "metadata": {},
   "outputs": [
    {
     "data": {
      "text/plain": [
       "NO     19075\n",
       "YES      146\n",
       "Name: waterfront, dtype: int64"
      ]
     },
     "execution_count": 40,
     "metadata": {},
     "output_type": "execute_result"
    }
   ],
   "source": [
    "df['waterfront'].value_counts() #lets us see the count of each data value\n",
    "                                "
   ]
  },
  {
   "cell_type": "markdown",
   "metadata": {},
   "source": [
    "Here we see that the \"waterfront\" column is boolean in nature. That is to say it's a binary piece of information, either the home is considered a waterfront property or it isn't. We can also see that we have less than 21,597 entries in this column. \n",
    "\n",
    "I am going to assume that if a home doesn't have a waterfront value, it means it is not waterfront. It would logically make sense that a homeowner with a waterfront property would make sure to fill out that information, but a homeowner not near the water would just skip over it or leave it blank. This also applies for things like basement size and year renovated. This will be reitereated as we go along."
   ]
  },
  {
   "cell_type": "code",
   "execution_count": 41,
   "metadata": {},
   "outputs": [],
   "source": [
    "df['waterfront'] = df['waterfront'].fillna('NO') #fillna() method replaces all empty values with value of choice\n",
    "                                                 #('NO') in this case, to match existing data"
   ]
  },
  {
   "cell_type": "code",
   "execution_count": 42,
   "metadata": {
    "scrolled": false
   },
   "outputs": [
    {
     "name": "stdout",
     "output_type": "stream",
     "text": [
      "<class 'pandas.core.frame.DataFrame'>\n",
      "RangeIndex: 21597 entries, 0 to 21596\n",
      "Data columns (total 21 columns):\n",
      " #   Column         Non-Null Count  Dtype  \n",
      "---  ------         --------------  -----  \n",
      " 0   id             21597 non-null  int64  \n",
      " 1   date           21597 non-null  object \n",
      " 2   price          21597 non-null  float64\n",
      " 3   bedrooms       21597 non-null  int64  \n",
      " 4   bathrooms      21597 non-null  float64\n",
      " 5   sqft_living    21597 non-null  int64  \n",
      " 6   sqft_lot       21597 non-null  int64  \n",
      " 7   floors         21597 non-null  float64\n",
      " 8   waterfront     21597 non-null  object \n",
      " 9   view           21534 non-null  object \n",
      " 10  condition      21597 non-null  object \n",
      " 11  grade          21597 non-null  object \n",
      " 12  sqft_above     21597 non-null  int64  \n",
      " 13  sqft_basement  21597 non-null  object \n",
      " 14  yr_built       21597 non-null  int64  \n",
      " 15  yr_renovated   17755 non-null  float64\n",
      " 16  zipcode        21597 non-null  int64  \n",
      " 17  lat            21597 non-null  float64\n",
      " 18  long           21597 non-null  float64\n",
      " 19  sqft_living15  21597 non-null  int64  \n",
      " 20  sqft_lot15     21597 non-null  int64  \n",
      "dtypes: float64(6), int64(9), object(6)\n",
      "memory usage: 3.5+ MB\n"
     ]
    }
   ],
   "source": [
    "df.info() #look to ensure our changes were implemented\n",
    "\n",
    "#waterfront column should have 21,597 non-nulls now"
   ]
  },
  {
   "cell_type": "code",
   "execution_count": 43,
   "metadata": {},
   "outputs": [
    {
     "data": {
      "text/plain": [
       "NONE         19422\n",
       "AVERAGE        957\n",
       "GOOD           508\n",
       "FAIR           330\n",
       "EXCELLENT      317\n",
       "Name: view, dtype: int64"
      ]
     },
     "execution_count": 43,
     "metadata": {},
     "output_type": "execute_result"
    }
   ],
   "source": [
    "df['view'].value_counts() #same process as waterfront column"
   ]
  },
  {
   "cell_type": "markdown",
   "metadata": {},
   "source": [
    "For view, we see that there is a scale of views, ranging from avverage to excellent. Also, the vast majority of homes are listed as having no view at all, indicated by the NONE value. \n",
    "\n",
    "To replace empty values here, I'm going to follow the same logic as waterfront. If a home doesn't have a notable view, it's reasonable that this part of the survey was skipped over or left blank."
   ]
  },
  {
   "cell_type": "code",
   "execution_count": 44,
   "metadata": {},
   "outputs": [],
   "source": [
    "df['view'] = df['view'].fillna('NONE') #using 'NONE' to match existing data"
   ]
  },
  {
   "cell_type": "code",
   "execution_count": 45,
   "metadata": {},
   "outputs": [
    {
     "name": "stdout",
     "output_type": "stream",
     "text": [
      "<class 'pandas.core.frame.DataFrame'>\n",
      "RangeIndex: 21597 entries, 0 to 21596\n",
      "Data columns (total 21 columns):\n",
      " #   Column         Non-Null Count  Dtype  \n",
      "---  ------         --------------  -----  \n",
      " 0   id             21597 non-null  int64  \n",
      " 1   date           21597 non-null  object \n",
      " 2   price          21597 non-null  float64\n",
      " 3   bedrooms       21597 non-null  int64  \n",
      " 4   bathrooms      21597 non-null  float64\n",
      " 5   sqft_living    21597 non-null  int64  \n",
      " 6   sqft_lot       21597 non-null  int64  \n",
      " 7   floors         21597 non-null  float64\n",
      " 8   waterfront     21597 non-null  object \n",
      " 9   view           21597 non-null  object \n",
      " 10  condition      21597 non-null  object \n",
      " 11  grade          21597 non-null  object \n",
      " 12  sqft_above     21597 non-null  int64  \n",
      " 13  sqft_basement  21597 non-null  object \n",
      " 14  yr_built       21597 non-null  int64  \n",
      " 15  yr_renovated   17755 non-null  float64\n",
      " 16  zipcode        21597 non-null  int64  \n",
      " 17  lat            21597 non-null  float64\n",
      " 18  long           21597 non-null  float64\n",
      " 19  sqft_living15  21597 non-null  int64  \n",
      " 20  sqft_lot15     21597 non-null  int64  \n",
      "dtypes: float64(6), int64(9), object(6)\n",
      "memory usage: 3.5+ MB\n"
     ]
    }
   ],
   "source": [
    "df.info() #check to see null/empty values were replaced"
   ]
  },
  {
   "cell_type": "code",
   "execution_count": 46,
   "metadata": {
    "scrolled": false
   },
   "outputs": [
    {
     "data": {
      "text/plain": [
       "0.0       17011\n",
       "2014.0       73\n",
       "2003.0       31\n",
       "2013.0       31\n",
       "2007.0       30\n",
       "          ...  \n",
       "1946.0        1\n",
       "1959.0        1\n",
       "1971.0        1\n",
       "1951.0        1\n",
       "1954.0        1\n",
       "Name: yr_renovated, Length: 70, dtype: int64"
      ]
     },
     "execution_count": 46,
     "metadata": {},
     "output_type": "execute_result"
    }
   ],
   "source": [
    "df['yr_renovated'].value_counts()"
   ]
  },
  {
   "cell_type": "markdown",
   "metadata": {},
   "source": [
    "Finally, we have the year the home was renovated, with data being the year as a number value. In this case, we can say that a value of zero would mean that it has never been renovated. Given that zero is by far the most common value, we are going to say that a home with a missing/null value has not been renovated.\n",
    "\n",
    "We could replace null values with the average renovation year in the data set, but since zero is so overwhelmingly popular as an answer, we can safely assume that a missing value means it was not renovated."
   ]
  },
  {
   "cell_type": "code",
   "execution_count": 47,
   "metadata": {},
   "outputs": [],
   "source": [
    "df['yr_renovated'] = df['yr_renovated'].fillna(0.0) #replaces null values with 0"
   ]
  },
  {
   "cell_type": "code",
   "execution_count": 48,
   "metadata": {},
   "outputs": [
    {
     "name": "stdout",
     "output_type": "stream",
     "text": [
      "<class 'pandas.core.frame.DataFrame'>\n",
      "RangeIndex: 21597 entries, 0 to 21596\n",
      "Data columns (total 21 columns):\n",
      " #   Column         Non-Null Count  Dtype  \n",
      "---  ------         --------------  -----  \n",
      " 0   id             21597 non-null  int64  \n",
      " 1   date           21597 non-null  object \n",
      " 2   price          21597 non-null  float64\n",
      " 3   bedrooms       21597 non-null  int64  \n",
      " 4   bathrooms      21597 non-null  float64\n",
      " 5   sqft_living    21597 non-null  int64  \n",
      " 6   sqft_lot       21597 non-null  int64  \n",
      " 7   floors         21597 non-null  float64\n",
      " 8   waterfront     21597 non-null  object \n",
      " 9   view           21597 non-null  object \n",
      " 10  condition      21597 non-null  object \n",
      " 11  grade          21597 non-null  object \n",
      " 12  sqft_above     21597 non-null  int64  \n",
      " 13  sqft_basement  21597 non-null  object \n",
      " 14  yr_built       21597 non-null  int64  \n",
      " 15  yr_renovated   21597 non-null  float64\n",
      " 16  zipcode        21597 non-null  int64  \n",
      " 17  lat            21597 non-null  float64\n",
      " 18  long           21597 non-null  float64\n",
      " 19  sqft_living15  21597 non-null  int64  \n",
      " 20  sqft_lot15     21597 non-null  int64  \n",
      "dtypes: float64(6), int64(9), object(6)\n",
      "memory usage: 3.5+ MB\n"
     ]
    }
   ],
   "source": [
    "df.info() #final check that all columns have no missing values"
   ]
  },
  {
   "cell_type": "markdown",
   "metadata": {},
   "source": [
    "At one point during my EDA, I found what I thought was an outlier with 33 bedrooms, so let's examine that further."
   ]
  },
  {
   "cell_type": "code",
   "execution_count": 49,
   "metadata": {},
   "outputs": [
    {
     "data": {
      "text/html": [
       "<div>\n",
       "<style scoped>\n",
       "    .dataframe tbody tr th:only-of-type {\n",
       "        vertical-align: middle;\n",
       "    }\n",
       "\n",
       "    .dataframe tbody tr th {\n",
       "        vertical-align: top;\n",
       "    }\n",
       "\n",
       "    .dataframe thead th {\n",
       "        text-align: right;\n",
       "    }\n",
       "</style>\n",
       "<table border=\"1\" class=\"dataframe\">\n",
       "  <thead>\n",
       "    <tr style=\"text-align: right;\">\n",
       "      <th></th>\n",
       "      <th>id</th>\n",
       "      <th>date</th>\n",
       "      <th>price</th>\n",
       "      <th>bedrooms</th>\n",
       "      <th>bathrooms</th>\n",
       "      <th>sqft_living</th>\n",
       "      <th>sqft_lot</th>\n",
       "      <th>floors</th>\n",
       "      <th>waterfront</th>\n",
       "      <th>view</th>\n",
       "      <th>...</th>\n",
       "      <th>grade</th>\n",
       "      <th>sqft_above</th>\n",
       "      <th>sqft_basement</th>\n",
       "      <th>yr_built</th>\n",
       "      <th>yr_renovated</th>\n",
       "      <th>zipcode</th>\n",
       "      <th>lat</th>\n",
       "      <th>long</th>\n",
       "      <th>sqft_living15</th>\n",
       "      <th>sqft_lot15</th>\n",
       "    </tr>\n",
       "  </thead>\n",
       "  <tbody>\n",
       "    <tr>\n",
       "      <th>15856</th>\n",
       "      <td>2402100895</td>\n",
       "      <td>6/25/2014</td>\n",
       "      <td>640000.0</td>\n",
       "      <td>33</td>\n",
       "      <td>1.75</td>\n",
       "      <td>1620</td>\n",
       "      <td>6000</td>\n",
       "      <td>1.0</td>\n",
       "      <td>NO</td>\n",
       "      <td>NONE</td>\n",
       "      <td>...</td>\n",
       "      <td>7 Average</td>\n",
       "      <td>1040</td>\n",
       "      <td>580.0</td>\n",
       "      <td>1947</td>\n",
       "      <td>0.0</td>\n",
       "      <td>98103</td>\n",
       "      <td>47.6878</td>\n",
       "      <td>-122.331</td>\n",
       "      <td>1330</td>\n",
       "      <td>4700</td>\n",
       "    </tr>\n",
       "  </tbody>\n",
       "</table>\n",
       "<p>1 rows × 21 columns</p>\n",
       "</div>"
      ],
      "text/plain": [
       "               id       date     price  bedrooms  bathrooms  sqft_living  \\\n",
       "15856  2402100895  6/25/2014  640000.0        33       1.75         1620   \n",
       "\n",
       "       sqft_lot  floors waterfront  view  ...      grade sqft_above  \\\n",
       "15856      6000     1.0         NO  NONE  ...  7 Average       1040   \n",
       "\n",
       "       sqft_basement yr_built  yr_renovated  zipcode      lat     long  \\\n",
       "15856          580.0     1947           0.0    98103  47.6878 -122.331   \n",
       "\n",
       "       sqft_living15  sqft_lot15  \n",
       "15856           1330        4700  \n",
       "\n",
       "[1 rows x 21 columns]"
      ]
     },
     "execution_count": 49,
     "metadata": {},
     "output_type": "execute_result"
    }
   ],
   "source": [
    "df.loc[df['bedrooms'] == 33] #isolate the row of data"
   ]
  },
  {
   "cell_type": "code",
   "execution_count": 50,
   "metadata": {},
   "outputs": [],
   "source": [
    "#I can believe that's an input error, and the home is actually 3 bedrooms instead of 33\n",
    "\n",
    "df['bedrooms'] = df['bedrooms'].replace(33, 3) #replaces 33 with 3"
   ]
  },
  {
   "cell_type": "code",
   "execution_count": 51,
   "metadata": {},
   "outputs": [
    {
     "data": {
      "text/plain": [
       "count    21597.000000\n",
       "mean         3.371811\n",
       "std          0.904096\n",
       "min          1.000000\n",
       "25%          3.000000\n",
       "50%          3.000000\n",
       "75%          4.000000\n",
       "max         11.000000\n",
       "Name: bedrooms, dtype: float64"
      ]
     },
     "execution_count": 51,
     "metadata": {},
     "output_type": "execute_result"
    }
   ],
   "source": [
    "df['bedrooms'].describe() #to check that the max value is no longer 33"
   ]
  },
  {
   "cell_type": "markdown",
   "metadata": {},
   "source": [
    "## Transforming Qualitative Data"
   ]
  },
  {
   "cell_type": "code",
   "execution_count": 52,
   "metadata": {},
   "outputs": [
    {
     "data": {
      "text/plain": [
       "NO     21451\n",
       "YES      146\n",
       "Name: waterfront, dtype: int64"
      ]
     },
     "execution_count": 52,
     "metadata": {},
     "output_type": "execute_result"
    }
   ],
   "source": [
    "df['waterfront'].value_counts() #looking at the values for waterfront again"
   ]
  },
  {
   "cell_type": "markdown",
   "metadata": {},
   "source": [
    "The waterfront column is a boolean column, where a home is or is not considered waterfront. With that, we can replace NO with a zero, and YES with a one. This way, when our model is created, a zero will mean that it doesn't increase the home's price, but the fact it is waterfront will add a certain amount to the price of the home. This intuitively makes sense: waterfront properties tend to sell more than otherwise. "
   ]
  },
  {
   "cell_type": "code",
   "execution_count": 53,
   "metadata": {},
   "outputs": [],
   "source": [
    "df['waterfront'] = df['waterfront'].replace(['NO','YES'],['0','1']).astype(float) #float type so data can be included in model calculations"
   ]
  },
  {
   "cell_type": "code",
   "execution_count": 54,
   "metadata": {},
   "outputs": [
    {
     "data": {
      "text/plain": [
       "Average      14020\n",
       "Good          5677\n",
       "Very Good     1701\n",
       "Fair           170\n",
       "Poor            29\n",
       "Name: condition, dtype: int64"
      ]
     },
     "execution_count": 54,
     "metadata": {},
     "output_type": "execute_result"
    }
   ],
   "source": [
    "df['condition'].value_counts()"
   ]
  },
  {
   "cell_type": "markdown",
   "metadata": {},
   "source": [
    "With condition, we seem to have a 5 point scale for the cleanliness of homes, ranging from poor to very good. With that scale in mind, we can rank order homes by poor, fair, average, good, and very good. We can then make this a 1-5 number rating, rather than having text descriptons. That way, homes that are cleaner will have more value, and homes with worse condition will have lower value in the model."
   ]
  },
  {
   "cell_type": "code",
   "execution_count": 55,
   "metadata": {},
   "outputs": [],
   "source": [
    "df['condition'] = df['condition'].replace(['Poor','Fair','Average','Good','Very Good'],['1','2','3','4','5']).astype(float)\n",
    "\n",
    "#replaces text descriptions with corresponding number value in rank order, and then makes the column data a float so it can be\n",
    "# included in model calculations"
   ]
  },
  {
   "cell_type": "code",
   "execution_count": 56,
   "metadata": {},
   "outputs": [
    {
     "data": {
      "text/plain": [
       "NONE         19485\n",
       "AVERAGE        957\n",
       "GOOD           508\n",
       "FAIR           330\n",
       "EXCELLENT      317\n",
       "Name: view, dtype: int64"
      ]
     },
     "execution_count": 56,
     "metadata": {},
     "output_type": "execute_result"
    }
   ],
   "source": [
    "df['view'].value_counts()"
   ]
  },
  {
   "cell_type": "markdown",
   "metadata": {},
   "source": [
    "Value counts provides an interesting scenario. It's a sliding scale, from fair to excellent, with most homes being listed as not having a view. It also only has four descriptive values instead of five.\n",
    "\n",
    "For the sake of consistency in language, we are going to assume that homes with an \"average\" view are middle of the road, much in the same way that 'average' homes in condition are in the middle of a five point scale. This assumes that no homes were listed as having a \"poor\" view, which would be below fair. However, it could be reasoned a poor view isn't a noteworthy view at all, so a house with a poor view could be labeled as just not having a view to avoid discussing a possible negative aspect of the house to prospective buyers. No one would deliberately list a house and point out a flaw of a poor view, and instead just avoid the subject. \n",
    "\n",
    "So with that, we are going to act as if view is also on a five point scale, and replace values the same way we did with condition."
   ]
  },
  {
   "cell_type": "code",
   "execution_count": 57,
   "metadata": {},
   "outputs": [],
   "source": [
    "#assuming that the scale goes from poor, fair, average, good, excellent\n",
    "\n",
    "df['view'] = df['view'].replace(['NONE','FAIR','AVERAGE','GOOD','EXCELLENT'],['0','2','3','4','5']).astype(float)"
   ]
  },
  {
   "cell_type": "code",
   "execution_count": 58,
   "metadata": {},
   "outputs": [
    {
     "data": {
      "text/plain": [
       "7 Average        8974\n",
       "8 Good           6065\n",
       "9 Better         2615\n",
       "6 Low Average    2038\n",
       "10 Very Good     1134\n",
       "11 Excellent      399\n",
       "5 Fair            242\n",
       "12 Luxury          89\n",
       "4 Low              27\n",
       "13 Mansion         13\n",
       "3 Poor              1\n",
       "Name: grade, dtype: int64"
      ]
     },
     "execution_count": 58,
     "metadata": {},
     "output_type": "execute_result"
    }
   ],
   "source": [
    "df['grade'].value_counts()"
   ]
  },
  {
   "cell_type": "markdown",
   "metadata": {},
   "source": [
    "With grade, we are provided the corresponding number value on which a home is scored. So instead of replacing values like we have with other clumns, we can simply isolate the number value and ditch the descriptions."
   ]
  },
  {
   "cell_type": "code",
   "execution_count": 59,
   "metadata": {},
   "outputs": [
    {
     "data": {
      "text/html": [
       "<div>\n",
       "<style scoped>\n",
       "    .dataframe tbody tr th:only-of-type {\n",
       "        vertical-align: middle;\n",
       "    }\n",
       "\n",
       "    .dataframe tbody tr th {\n",
       "        vertical-align: top;\n",
       "    }\n",
       "\n",
       "    .dataframe thead th {\n",
       "        text-align: right;\n",
       "    }\n",
       "</style>\n",
       "<table border=\"1\" class=\"dataframe\">\n",
       "  <thead>\n",
       "    <tr style=\"text-align: right;\">\n",
       "      <th></th>\n",
       "      <th>0</th>\n",
       "      <th>1</th>\n",
       "      <th>2</th>\n",
       "    </tr>\n",
       "  </thead>\n",
       "  <tbody>\n",
       "    <tr>\n",
       "      <th>0</th>\n",
       "      <td>7</td>\n",
       "      <td>Average</td>\n",
       "      <td>None</td>\n",
       "    </tr>\n",
       "    <tr>\n",
       "      <th>1</th>\n",
       "      <td>7</td>\n",
       "      <td>Average</td>\n",
       "      <td>None</td>\n",
       "    </tr>\n",
       "    <tr>\n",
       "      <th>2</th>\n",
       "      <td>6</td>\n",
       "      <td>Low</td>\n",
       "      <td>Average</td>\n",
       "    </tr>\n",
       "    <tr>\n",
       "      <th>3</th>\n",
       "      <td>7</td>\n",
       "      <td>Average</td>\n",
       "      <td>None</td>\n",
       "    </tr>\n",
       "    <tr>\n",
       "      <th>4</th>\n",
       "      <td>8</td>\n",
       "      <td>Good</td>\n",
       "      <td>None</td>\n",
       "    </tr>\n",
       "    <tr>\n",
       "      <th>...</th>\n",
       "      <td>...</td>\n",
       "      <td>...</td>\n",
       "      <td>...</td>\n",
       "    </tr>\n",
       "    <tr>\n",
       "      <th>21592</th>\n",
       "      <td>8</td>\n",
       "      <td>Good</td>\n",
       "      <td>None</td>\n",
       "    </tr>\n",
       "    <tr>\n",
       "      <th>21593</th>\n",
       "      <td>8</td>\n",
       "      <td>Good</td>\n",
       "      <td>None</td>\n",
       "    </tr>\n",
       "    <tr>\n",
       "      <th>21594</th>\n",
       "      <td>7</td>\n",
       "      <td>Average</td>\n",
       "      <td>None</td>\n",
       "    </tr>\n",
       "    <tr>\n",
       "      <th>21595</th>\n",
       "      <td>8</td>\n",
       "      <td>Good</td>\n",
       "      <td>None</td>\n",
       "    </tr>\n",
       "    <tr>\n",
       "      <th>21596</th>\n",
       "      <td>7</td>\n",
       "      <td>Average</td>\n",
       "      <td>None</td>\n",
       "    </tr>\n",
       "  </tbody>\n",
       "</table>\n",
       "<p>21597 rows × 3 columns</p>\n",
       "</div>"
      ],
      "text/plain": [
       "       0        1        2\n",
       "0      7  Average     None\n",
       "1      7  Average     None\n",
       "2      6      Low  Average\n",
       "3      7  Average     None\n",
       "4      8     Good     None\n",
       "...   ..      ...      ...\n",
       "21592  8     Good     None\n",
       "21593  8     Good     None\n",
       "21594  7  Average     None\n",
       "21595  8     Good     None\n",
       "21596  7  Average     None\n",
       "\n",
       "[21597 rows x 3 columns]"
      ]
     },
     "execution_count": 59,
     "metadata": {},
     "output_type": "execute_result"
    }
   ],
   "source": [
    "#split() method will isolate number in its own column, with values split by the spaces between the number and the words\n",
    "\n",
    "grading = df['grade'].str.split(' ', n=2, expand=True)\n",
    "\n",
    "grading"
   ]
  },
  {
   "cell_type": "markdown",
   "metadata": {},
   "source": [
    "## Changing All Data to Numerical Types"
   ]
  },
  {
   "cell_type": "markdown",
   "metadata": {},
   "source": [
    "So now that we have replaced or isolated all of the data we need and no longer have null values, all we have to do before building a model is make sure all columns have numerical data types. We can start this process by revisiting the grade information that we just isolated, and replace the existing data with just the number value, and then assert a numerical data type."
   ]
  },
  {
   "cell_type": "code",
   "execution_count": 60,
   "metadata": {},
   "outputs": [
    {
     "data": {
      "text/plain": [
       "7     8974\n",
       "8     6065\n",
       "9     2615\n",
       "6     2038\n",
       "10    1134\n",
       "11     399\n",
       "5      242\n",
       "12      89\n",
       "4       27\n",
       "13      13\n",
       "3        1\n",
       "Name: 0, dtype: int64"
      ]
     },
     "execution_count": 60,
     "metadata": {},
     "output_type": "execute_result"
    }
   ],
   "source": [
    "grading[0].value_counts() #to double check that our isolated data corresponds to the original"
   ]
  },
  {
   "cell_type": "code",
   "execution_count": 61,
   "metadata": {},
   "outputs": [],
   "source": [
    "df['grade'] = grading[0].astype(float) #replaces existing values with isolated values we created, changes column to numerical data"
   ]
  },
  {
   "cell_type": "code",
   "execution_count": 62,
   "metadata": {
    "scrolled": false
   },
   "outputs": [
    {
     "name": "stdout",
     "output_type": "stream",
     "text": [
      "<class 'pandas.core.frame.DataFrame'>\n",
      "RangeIndex: 21597 entries, 0 to 21596\n",
      "Data columns (total 21 columns):\n",
      " #   Column         Non-Null Count  Dtype  \n",
      "---  ------         --------------  -----  \n",
      " 0   id             21597 non-null  int64  \n",
      " 1   date           21597 non-null  object \n",
      " 2   price          21597 non-null  float64\n",
      " 3   bedrooms       21597 non-null  int64  \n",
      " 4   bathrooms      21597 non-null  float64\n",
      " 5   sqft_living    21597 non-null  int64  \n",
      " 6   sqft_lot       21597 non-null  int64  \n",
      " 7   floors         21597 non-null  float64\n",
      " 8   waterfront     21597 non-null  float64\n",
      " 9   view           21597 non-null  float64\n",
      " 10  condition      21597 non-null  float64\n",
      " 11  grade          21597 non-null  float64\n",
      " 12  sqft_above     21597 non-null  int64  \n",
      " 13  sqft_basement  21597 non-null  object \n",
      " 14  yr_built       21597 non-null  int64  \n",
      " 15  yr_renovated   21597 non-null  float64\n",
      " 16  zipcode        21597 non-null  int64  \n",
      " 17  lat            21597 non-null  float64\n",
      " 18  long           21597 non-null  float64\n",
      " 19  sqft_living15  21597 non-null  int64  \n",
      " 20  sqft_lot15     21597 non-null  int64  \n",
      "dtypes: float64(10), int64(9), object(2)\n",
      "memory usage: 3.5+ MB\n"
     ]
    }
   ],
   "source": [
    "df.info() #double check that the data type has changed"
   ]
  },
  {
   "cell_type": "code",
   "execution_count": 63,
   "metadata": {
    "scrolled": true
   },
   "outputs": [
    {
     "data": {
      "text/plain": [
       "0.0       12826\n",
       "?           454\n",
       "600.0       217\n",
       "500.0       209\n",
       "700.0       208\n",
       "          ...  \n",
       "2050.0        1\n",
       "2130.0        1\n",
       "475.0         1\n",
       "2196.0        1\n",
       "516.0         1\n",
       "Name: sqft_basement, Length: 304, dtype: int64"
      ]
     },
     "execution_count": 63,
     "metadata": {},
     "output_type": "execute_result"
    }
   ],
   "source": [
    "df['sqft_basement'].value_counts() #to see if we have non-numerical data that makes the column have object type data"
   ]
  },
  {
   "cell_type": "markdown",
   "metadata": {},
   "source": [
    "We have found what's causing this column to have an object data type. My assumption is that the question mark was placed to mark that data was unknown or left blank, since it is separate from being listed as a basement with zero square feet. Because the majority of homes have zero as the value, meaning they don't have a basement at all, I can reasonably assume that a home without the square footage listed simply doesn't have a basement. This is very similar logic as the waterfront column.\n",
    "\n",
    "So we will replace the question marks with a zero, and then turn the column's data type to a float."
   ]
  },
  {
   "cell_type": "code",
   "execution_count": 64,
   "metadata": {},
   "outputs": [],
   "source": [
    "#assume that missing values means they don't have a basement, so they left that field blank\n",
    "\n",
    "df['sqft_basement'] = df['sqft_basement'].replace('?','0.0').astype(float)"
   ]
  },
  {
   "cell_type": "code",
   "execution_count": 65,
   "metadata": {},
   "outputs": [
    {
     "name": "stdout",
     "output_type": "stream",
     "text": [
      "<class 'pandas.core.frame.DataFrame'>\n",
      "RangeIndex: 21597 entries, 0 to 21596\n",
      "Data columns (total 21 columns):\n",
      " #   Column         Non-Null Count  Dtype  \n",
      "---  ------         --------------  -----  \n",
      " 0   id             21597 non-null  int64  \n",
      " 1   date           21597 non-null  object \n",
      " 2   price          21597 non-null  float64\n",
      " 3   bedrooms       21597 non-null  int64  \n",
      " 4   bathrooms      21597 non-null  float64\n",
      " 5   sqft_living    21597 non-null  int64  \n",
      " 6   sqft_lot       21597 non-null  int64  \n",
      " 7   floors         21597 non-null  float64\n",
      " 8   waterfront     21597 non-null  float64\n",
      " 9   view           21597 non-null  float64\n",
      " 10  condition      21597 non-null  float64\n",
      " 11  grade          21597 non-null  float64\n",
      " 12  sqft_above     21597 non-null  int64  \n",
      " 13  sqft_basement  21597 non-null  float64\n",
      " 14  yr_built       21597 non-null  int64  \n",
      " 15  yr_renovated   21597 non-null  float64\n",
      " 16  zipcode        21597 non-null  int64  \n",
      " 17  lat            21597 non-null  float64\n",
      " 18  long           21597 non-null  float64\n",
      " 19  sqft_living15  21597 non-null  int64  \n",
      " 20  sqft_lot15     21597 non-null  int64  \n",
      "dtypes: float64(11), int64(9), object(1)\n",
      "memory usage: 3.5+ MB\n"
     ]
    }
   ],
   "source": [
    "df.info() #double check our float type assertion"
   ]
  },
  {
   "cell_type": "markdown",
   "metadata": {},
   "source": [
    "## Building the Model"
   ]
  },
  {
   "cell_type": "markdown",
   "metadata": {},
   "source": [
    "Now that our data is clean, we can start building models to determine what drives price. \n",
    "\n",
    "ID, date, and zipcode will not be super useful for our purposes. \n",
    "\n",
    "Zipcode in particular won't be as reliable of a location factor as latitude and longitude. It doesn't logically flow that a home with a zipcode of 45067 is worth less than one with a zipcode of 45068. Besides, latitude and longitude or more precise markers.\n",
    "\n",
    "ID isn't a feature of a home as much as it is a label for this table, and date (or date sold) doesn't inherently mean much to us since it describes when a transaction happened, rather than an attribute of the home.\n",
    "\n",
    "Price will not be part of our features since it is the target of our model.\n",
    "\n",
    "For this analysis, we will build an Ordinary Least Squares model. This is a linear model that will use multiple x variables and one y variable to create a line of best fit within the data. This line will minimize the space between data points, similar to any other form of linear regression.\n",
    "\n",
    "We are building an inferential model. This means that we are trying to determine what factors influence a home's price, rather than predict what a home's price will be given a bunch of inputs.\n",
    "\n",
    "Our first model will include all relevant features, and then we will alter our model based on what we see. Explanations on what we change will be located next to each iteration of our model.\n",
    "\n",
    "We will use the StatsModels library to build our models. This way we can write about 3 lines of code and build a linear regression, rather than coding everything out by hand."
   ]
  },
  {
   "cell_type": "code",
   "execution_count": 66,
   "metadata": {},
   "outputs": [],
   "source": [
    "base_features = sm.add_constant(df.drop(['id', 'date','price','zipcode'], axis=1)) #removes variables we won't use\n",
    "target = df['price'] #sets price as our Y variable\n",
    "\n",
    "base_model = sm.OLS(target, base_features).fit() #creates model/line of best fit"
   ]
  },
  {
   "cell_type": "code",
   "execution_count": 67,
   "metadata": {
    "scrolled": false
   },
   "outputs": [
    {
     "data": {
      "text/html": [
       "<table class=\"simpletable\">\n",
       "<caption>OLS Regression Results</caption>\n",
       "<tr>\n",
       "  <th>Dep. Variable:</th>          <td>price</td>      <th>  R-squared:         </th>  <td>   0.696</td>  \n",
       "</tr>\n",
       "<tr>\n",
       "  <th>Model:</th>                   <td>OLS</td>       <th>  Adj. R-squared:    </th>  <td>   0.696</td>  \n",
       "</tr>\n",
       "<tr>\n",
       "  <th>Method:</th>             <td>Least Squares</td>  <th>  F-statistic:       </th>  <td>   2905.</td>  \n",
       "</tr>\n",
       "<tr>\n",
       "  <th>Date:</th>             <td>Mon, 18 Jul 2022</td> <th>  Prob (F-statistic):</th>   <td>  0.00</td>   \n",
       "</tr>\n",
       "<tr>\n",
       "  <th>Time:</th>                 <td>21:31:56</td>     <th>  Log-Likelihood:    </th> <td>-2.9453e+05</td>\n",
       "</tr>\n",
       "<tr>\n",
       "  <th>No. Observations:</th>      <td> 21597</td>      <th>  AIC:               </th>  <td>5.891e+05</td> \n",
       "</tr>\n",
       "<tr>\n",
       "  <th>Df Residuals:</th>          <td> 21579</td>      <th>  BIC:               </th>  <td>5.892e+05</td> \n",
       "</tr>\n",
       "<tr>\n",
       "  <th>Df Model:</th>              <td>    17</td>      <th>                     </th>      <td> </td>     \n",
       "</tr>\n",
       "<tr>\n",
       "  <th>Covariance Type:</th>      <td>nonrobust</td>    <th>                     </th>      <td> </td>     \n",
       "</tr>\n",
       "</table>\n",
       "<table class=\"simpletable\">\n",
       "<tr>\n",
       "        <td></td>           <th>coef</th>     <th>std err</th>      <th>t</th>      <th>P>|t|</th>  <th>[0.025</th>    <th>0.975]</th>  \n",
       "</tr>\n",
       "<tr>\n",
       "  <th>const</th>         <td>-3.678e+07</td> <td>  1.6e+06</td> <td>  -23.036</td> <td> 0.000</td> <td>-3.99e+07</td> <td>-3.36e+07</td>\n",
       "</tr>\n",
       "<tr>\n",
       "  <th>bedrooms</th>      <td>-3.753e+04</td> <td> 1991.619</td> <td>  -18.845</td> <td> 0.000</td> <td>-4.14e+04</td> <td>-3.36e+04</td>\n",
       "</tr>\n",
       "<tr>\n",
       "  <th>bathrooms</th>     <td> 4.374e+04</td> <td> 3289.667</td> <td>   13.295</td> <td> 0.000</td> <td> 3.73e+04</td> <td> 5.02e+04</td>\n",
       "</tr>\n",
       "<tr>\n",
       "  <th>sqft_living</th>   <td>   99.8317</td> <td>   18.204</td> <td>    5.484</td> <td> 0.000</td> <td>   64.151</td> <td>  135.513</td>\n",
       "</tr>\n",
       "<tr>\n",
       "  <th>sqft_lot</th>      <td>    0.1251</td> <td>    0.048</td> <td>    2.593</td> <td> 0.010</td> <td>    0.031</td> <td>    0.220</td>\n",
       "</tr>\n",
       "<tr>\n",
       "  <th>floors</th>        <td> 1094.3633</td> <td> 3609.605</td> <td>    0.303</td> <td> 0.762</td> <td>-5980.730</td> <td> 8169.456</td>\n",
       "</tr>\n",
       "<tr>\n",
       "  <th>waterfront</th>    <td> 6.402e+05</td> <td>  1.8e+04</td> <td>   35.530</td> <td> 0.000</td> <td> 6.05e+05</td> <td> 6.76e+05</td>\n",
       "</tr>\n",
       "<tr>\n",
       "  <th>view</th>          <td> 3.527e+04</td> <td> 1539.053</td> <td>   22.915</td> <td> 0.000</td> <td> 3.23e+04</td> <td> 3.83e+04</td>\n",
       "</tr>\n",
       "<tr>\n",
       "  <th>condition</th>     <td> 3.145e+04</td> <td> 2347.830</td> <td>   13.397</td> <td> 0.000</td> <td> 2.69e+04</td> <td> 3.61e+04</td>\n",
       "</tr>\n",
       "<tr>\n",
       "  <th>grade</th>         <td> 9.789e+04</td> <td> 2175.616</td> <td>   44.994</td> <td> 0.000</td> <td> 9.36e+04</td> <td> 1.02e+05</td>\n",
       "</tr>\n",
       "<tr>\n",
       "  <th>sqft_above</th>    <td>   81.2341</td> <td>   18.192</td> <td>    4.465</td> <td> 0.000</td> <td>   45.576</td> <td>  116.892</td>\n",
       "</tr>\n",
       "<tr>\n",
       "  <th>sqft_basement</th> <td>   49.3018</td> <td>   18.030</td> <td>    2.734</td> <td> 0.006</td> <td>   13.962</td> <td>   84.641</td>\n",
       "</tr>\n",
       "<tr>\n",
       "  <th>yr_built</th>      <td>-2484.9807</td> <td>   71.885</td> <td>  -34.569</td> <td> 0.000</td> <td>-2625.882</td> <td>-2344.080</td>\n",
       "</tr>\n",
       "<tr>\n",
       "  <th>yr_renovated</th>  <td>   24.8096</td> <td>    4.004</td> <td>    6.196</td> <td> 0.000</td> <td>   16.961</td> <td>   32.658</td>\n",
       "</tr>\n",
       "<tr>\n",
       "  <th>lat</th>           <td> 5.575e+05</td> <td> 1.05e+04</td> <td>   52.843</td> <td> 0.000</td> <td> 5.37e+05</td> <td> 5.78e+05</td>\n",
       "</tr>\n",
       "<tr>\n",
       "  <th>long</th>          <td>-1.182e+05</td> <td>  1.2e+04</td> <td>   -9.836</td> <td> 0.000</td> <td>-1.42e+05</td> <td>-9.46e+04</td>\n",
       "</tr>\n",
       "<tr>\n",
       "  <th>sqft_living15</th> <td>   27.1451</td> <td>    3.461</td> <td>    7.842</td> <td> 0.000</td> <td>   20.361</td> <td>   33.930</td>\n",
       "</tr>\n",
       "<tr>\n",
       "  <th>sqft_lot15</th>    <td>   -0.4032</td> <td>    0.074</td> <td>   -5.459</td> <td> 0.000</td> <td>   -0.548</td> <td>   -0.258</td>\n",
       "</tr>\n",
       "</table>\n",
       "<table class=\"simpletable\">\n",
       "<tr>\n",
       "  <th>Omnibus:</th>       <td>18424.550</td> <th>  Durbin-Watson:     </th>  <td>   1.991</td>  \n",
       "</tr>\n",
       "<tr>\n",
       "  <th>Prob(Omnibus):</th>  <td> 0.000</td>   <th>  Jarque-Bera (JB):  </th> <td>1825810.403</td>\n",
       "</tr>\n",
       "<tr>\n",
       "  <th>Skew:</th>           <td> 3.593</td>   <th>  Prob(JB):          </th>  <td>    0.00</td>  \n",
       "</tr>\n",
       "<tr>\n",
       "  <th>Kurtosis:</th>       <td>47.467</td>   <th>  Cond. No.          </th>  <td>5.86e+07</td>  \n",
       "</tr>\n",
       "</table><br/><br/>Notes:<br/>[1] Standard Errors assume that the covariance matrix of the errors is correctly specified.<br/>[2] The condition number is large, 5.86e+07. This might indicate that there are<br/>strong multicollinearity or other numerical problems."
      ],
      "text/plain": [
       "<class 'statsmodels.iolib.summary.Summary'>\n",
       "\"\"\"\n",
       "                            OLS Regression Results                            \n",
       "==============================================================================\n",
       "Dep. Variable:                  price   R-squared:                       0.696\n",
       "Model:                            OLS   Adj. R-squared:                  0.696\n",
       "Method:                 Least Squares   F-statistic:                     2905.\n",
       "Date:                Mon, 18 Jul 2022   Prob (F-statistic):               0.00\n",
       "Time:                        21:31:56   Log-Likelihood:            -2.9453e+05\n",
       "No. Observations:               21597   AIC:                         5.891e+05\n",
       "Df Residuals:                   21579   BIC:                         5.892e+05\n",
       "Df Model:                          17                                         \n",
       "Covariance Type:            nonrobust                                         \n",
       "=================================================================================\n",
       "                    coef    std err          t      P>|t|      [0.025      0.975]\n",
       "---------------------------------------------------------------------------------\n",
       "const         -3.678e+07    1.6e+06    -23.036      0.000   -3.99e+07   -3.36e+07\n",
       "bedrooms      -3.753e+04   1991.619    -18.845      0.000   -4.14e+04   -3.36e+04\n",
       "bathrooms      4.374e+04   3289.667     13.295      0.000    3.73e+04    5.02e+04\n",
       "sqft_living      99.8317     18.204      5.484      0.000      64.151     135.513\n",
       "sqft_lot          0.1251      0.048      2.593      0.010       0.031       0.220\n",
       "floors         1094.3633   3609.605      0.303      0.762   -5980.730    8169.456\n",
       "waterfront     6.402e+05    1.8e+04     35.530      0.000    6.05e+05    6.76e+05\n",
       "view           3.527e+04   1539.053     22.915      0.000    3.23e+04    3.83e+04\n",
       "condition      3.145e+04   2347.830     13.397      0.000    2.69e+04    3.61e+04\n",
       "grade          9.789e+04   2175.616     44.994      0.000    9.36e+04    1.02e+05\n",
       "sqft_above       81.2341     18.192      4.465      0.000      45.576     116.892\n",
       "sqft_basement    49.3018     18.030      2.734      0.006      13.962      84.641\n",
       "yr_built      -2484.9807     71.885    -34.569      0.000   -2625.882   -2344.080\n",
       "yr_renovated     24.8096      4.004      6.196      0.000      16.961      32.658\n",
       "lat            5.575e+05   1.05e+04     52.843      0.000    5.37e+05    5.78e+05\n",
       "long          -1.182e+05    1.2e+04     -9.836      0.000   -1.42e+05   -9.46e+04\n",
       "sqft_living15    27.1451      3.461      7.842      0.000      20.361      33.930\n",
       "sqft_lot15       -0.4032      0.074     -5.459      0.000      -0.548      -0.258\n",
       "==============================================================================\n",
       "Omnibus:                    18424.550   Durbin-Watson:                   1.991\n",
       "Prob(Omnibus):                  0.000   Jarque-Bera (JB):          1825810.403\n",
       "Skew:                           3.593   Prob(JB):                         0.00\n",
       "Kurtosis:                      47.467   Cond. No.                     5.86e+07\n",
       "==============================================================================\n",
       "\n",
       "Notes:\n",
       "[1] Standard Errors assume that the covariance matrix of the errors is correctly specified.\n",
       "[2] The condition number is large, 5.86e+07. This might indicate that there are\n",
       "strong multicollinearity or other numerical problems.\n",
       "\"\"\""
      ]
     },
     "execution_count": 67,
     "metadata": {},
     "output_type": "execute_result"
    }
   ],
   "source": [
    "base_model.summary() #gives us information about the model we created"
   ]
  },
  {
   "cell_type": "markdown",
   "metadata": {},
   "source": [
    "That is a lot of information at once, especially for having written a single line of code to see it. Let's walk through what's important.\n",
    "\n",
    "First is the R-squared value in the top right corner of the table. This tells us how much of the randomness of the data is accounted for in our model. Another way to think about it is that 69.6% of a given home's price is explained by this model, and the other 30% is due to factors that we currently don't have data for or can't measure.\n",
    "\n",
    "Next is the \"coef\" column. This tells us if a given factor has a positive or negative effect on price, and by how many dollars. For example, for every square foot added to a basement, home price will go up by about 49 dollars. Conversely, for every square foot larger your neighbor's lot is, your home's price will go down by about 40 cents. \n",
    "\n",
    "The third important column to note is the \"P>|t|\" column. This provides us information about how confident we are that a given factor/variable helps explain the randomness of the data. This is based on confidence intervals. \n",
    "\n",
    "For our purposes, we want to be at least 95% confident that a variable is truly helping explain a home's price. Our p-value, a measure of our confidence, then must be lower than 0.05 (1 - 0.95) in order to fit within our confidence interval. "
   ]
  },
  {
   "cell_type": "markdown",
   "metadata": {},
   "source": [
    "Our model explains almost 70% of the variance. However, number of floors ended up being an unreliable feature (p > 0.05). So we will remove that feature and see what happens next."
   ]
  },
  {
   "cell_type": "code",
   "execution_count": 68,
   "metadata": {},
   "outputs": [],
   "source": [
    "model2_x = base_features.drop('floors', axis=1) #drop() method removes chosen column from dataframe"
   ]
  },
  {
   "cell_type": "code",
   "execution_count": 69,
   "metadata": {},
   "outputs": [
    {
     "name": "stdout",
     "output_type": "stream",
     "text": [
      "<class 'pandas.core.frame.DataFrame'>\n",
      "RangeIndex: 21597 entries, 0 to 21596\n",
      "Data columns (total 17 columns):\n",
      " #   Column         Non-Null Count  Dtype  \n",
      "---  ------         --------------  -----  \n",
      " 0   const          21597 non-null  float64\n",
      " 1   bedrooms       21597 non-null  int64  \n",
      " 2   bathrooms      21597 non-null  float64\n",
      " 3   sqft_living    21597 non-null  int64  \n",
      " 4   sqft_lot       21597 non-null  int64  \n",
      " 5   waterfront     21597 non-null  float64\n",
      " 6   view           21597 non-null  float64\n",
      " 7   condition      21597 non-null  float64\n",
      " 8   grade          21597 non-null  float64\n",
      " 9   sqft_above     21597 non-null  int64  \n",
      " 10  sqft_basement  21597 non-null  float64\n",
      " 11  yr_built       21597 non-null  int64  \n",
      " 12  yr_renovated   21597 non-null  float64\n",
      " 13  lat            21597 non-null  float64\n",
      " 14  long           21597 non-null  float64\n",
      " 15  sqft_living15  21597 non-null  int64  \n",
      " 16  sqft_lot15     21597 non-null  int64  \n",
      "dtypes: float64(10), int64(7)\n",
      "memory usage: 2.8 MB\n"
     ]
    }
   ],
   "source": [
    "model2_x.info() #double check that column was removed"
   ]
  },
  {
   "cell_type": "code",
   "execution_count": 70,
   "metadata": {},
   "outputs": [],
   "source": [
    "model2 = sm.OLS(target, model2_x).fit() #creates model with new set of variables"
   ]
  },
  {
   "cell_type": "code",
   "execution_count": 71,
   "metadata": {
    "scrolled": false
   },
   "outputs": [
    {
     "data": {
      "text/html": [
       "<table class=\"simpletable\">\n",
       "<caption>OLS Regression Results</caption>\n",
       "<tr>\n",
       "  <th>Dep. Variable:</th>          <td>price</td>      <th>  R-squared:         </th>  <td>   0.696</td>  \n",
       "</tr>\n",
       "<tr>\n",
       "  <th>Model:</th>                   <td>OLS</td>       <th>  Adj. R-squared:    </th>  <td>   0.696</td>  \n",
       "</tr>\n",
       "<tr>\n",
       "  <th>Method:</th>             <td>Least Squares</td>  <th>  F-statistic:       </th>  <td>   3087.</td>  \n",
       "</tr>\n",
       "<tr>\n",
       "  <th>Date:</th>             <td>Mon, 18 Jul 2022</td> <th>  Prob (F-statistic):</th>   <td>  0.00</td>   \n",
       "</tr>\n",
       "<tr>\n",
       "  <th>Time:</th>                 <td>21:31:56</td>     <th>  Log-Likelihood:    </th> <td>-2.9453e+05</td>\n",
       "</tr>\n",
       "<tr>\n",
       "  <th>No. Observations:</th>      <td> 21597</td>      <th>  AIC:               </th>  <td>5.891e+05</td> \n",
       "</tr>\n",
       "<tr>\n",
       "  <th>Df Residuals:</th>          <td> 21580</td>      <th>  BIC:               </th>  <td>5.892e+05</td> \n",
       "</tr>\n",
       "<tr>\n",
       "  <th>Df Model:</th>              <td>    16</td>      <th>                     </th>      <td> </td>     \n",
       "</tr>\n",
       "<tr>\n",
       "  <th>Covariance Type:</th>      <td>nonrobust</td>    <th>                     </th>      <td> </td>     \n",
       "</tr>\n",
       "</table>\n",
       "<table class=\"simpletable\">\n",
       "<tr>\n",
       "        <td></td>           <th>coef</th>     <th>std err</th>      <th>t</th>      <th>P>|t|</th>  <th>[0.025</th>    <th>0.975]</th>  \n",
       "</tr>\n",
       "<tr>\n",
       "  <th>const</th>         <td>-3.686e+07</td> <td> 1.57e+06</td> <td>  -23.456</td> <td> 0.000</td> <td>-3.99e+07</td> <td>-3.38e+07</td>\n",
       "</tr>\n",
       "<tr>\n",
       "  <th>bedrooms</th>      <td>-3.755e+04</td> <td> 1990.758</td> <td>  -18.862</td> <td> 0.000</td> <td>-4.15e+04</td> <td>-3.36e+04</td>\n",
       "</tr>\n",
       "<tr>\n",
       "  <th>bathrooms</th>     <td>   4.4e+04</td> <td> 3172.672</td> <td>   13.868</td> <td> 0.000</td> <td> 3.78e+04</td> <td> 5.02e+04</td>\n",
       "</tr>\n",
       "<tr>\n",
       "  <th>sqft_living</th>   <td>   99.4216</td> <td>   18.153</td> <td>    5.477</td> <td> 0.000</td> <td>   63.840</td> <td>  135.003</td>\n",
       "</tr>\n",
       "<tr>\n",
       "  <th>sqft_lot</th>      <td>    0.1248</td> <td>    0.048</td> <td>    2.587</td> <td> 0.010</td> <td>    0.030</td> <td>    0.219</td>\n",
       "</tr>\n",
       "<tr>\n",
       "  <th>waterfront</th>    <td> 6.402e+05</td> <td>  1.8e+04</td> <td>   35.531</td> <td> 0.000</td> <td> 6.05e+05</td> <td> 6.76e+05</td>\n",
       "</tr>\n",
       "<tr>\n",
       "  <th>view</th>          <td> 3.528e+04</td> <td> 1538.229</td> <td>   22.937</td> <td> 0.000</td> <td> 3.23e+04</td> <td> 3.83e+04</td>\n",
       "</tr>\n",
       "<tr>\n",
       "  <th>condition</th>     <td>  3.14e+04</td> <td> 2342.017</td> <td>   13.409</td> <td> 0.000</td> <td> 2.68e+04</td> <td>  3.6e+04</td>\n",
       "</tr>\n",
       "<tr>\n",
       "  <th>grade</th>         <td> 9.795e+04</td> <td> 2167.291</td> <td>   45.193</td> <td> 0.000</td> <td> 9.37e+04</td> <td> 1.02e+05</td>\n",
       "</tr>\n",
       "<tr>\n",
       "  <th>sqft_above</th>    <td>   81.8241</td> <td>   18.087</td> <td>    4.524</td> <td> 0.000</td> <td>   46.372</td> <td>  117.276</td>\n",
       "</tr>\n",
       "<tr>\n",
       "  <th>sqft_basement</th> <td>   49.3027</td> <td>   18.029</td> <td>    2.735</td> <td> 0.006</td> <td>   13.964</td> <td>   84.641</td>\n",
       "</tr>\n",
       "<tr>\n",
       "  <th>yr_built</th>      <td>-2480.5287</td> <td>   70.368</td> <td>  -35.251</td> <td> 0.000</td> <td>-2618.456</td> <td>-2342.602</td>\n",
       "</tr>\n",
       "<tr>\n",
       "  <th>yr_renovated</th>  <td>   24.8607</td> <td>    4.000</td> <td>    6.214</td> <td> 0.000</td> <td>   17.020</td> <td>   32.702</td>\n",
       "</tr>\n",
       "<tr>\n",
       "  <th>lat</th>           <td> 5.578e+05</td> <td> 1.05e+04</td> <td>   53.171</td> <td> 0.000</td> <td> 5.37e+05</td> <td> 5.78e+05</td>\n",
       "</tr>\n",
       "<tr>\n",
       "  <th>long</th>          <td>-1.187e+05</td> <td> 1.19e+04</td> <td>   -9.973</td> <td> 0.000</td> <td>-1.42e+05</td> <td>-9.54e+04</td>\n",
       "</tr>\n",
       "<tr>\n",
       "  <th>sqft_living15</th> <td>   27.0173</td> <td>    3.435</td> <td>    7.864</td> <td> 0.000</td> <td>   20.283</td> <td>   33.751</td>\n",
       "</tr>\n",
       "<tr>\n",
       "  <th>sqft_lot15</th>    <td>   -0.4040</td> <td>    0.074</td> <td>   -5.472</td> <td> 0.000</td> <td>   -0.549</td> <td>   -0.259</td>\n",
       "</tr>\n",
       "</table>\n",
       "<table class=\"simpletable\">\n",
       "<tr>\n",
       "  <th>Omnibus:</th>       <td>18415.726</td> <th>  Durbin-Watson:     </th>  <td>   1.991</td>  \n",
       "</tr>\n",
       "<tr>\n",
       "  <th>Prob(Omnibus):</th>  <td> 0.000</td>   <th>  Jarque-Bera (JB):  </th> <td>1822599.236</td>\n",
       "</tr>\n",
       "<tr>\n",
       "  <th>Skew:</th>           <td> 3.591</td>   <th>  Prob(JB):          </th>  <td>    0.00</td>  \n",
       "</tr>\n",
       "<tr>\n",
       "  <th>Kurtosis:</th>       <td>47.428</td>   <th>  Cond. No.          </th>  <td>5.76e+07</td>  \n",
       "</tr>\n",
       "</table><br/><br/>Notes:<br/>[1] Standard Errors assume that the covariance matrix of the errors is correctly specified.<br/>[2] The condition number is large, 5.76e+07. This might indicate that there are<br/>strong multicollinearity or other numerical problems."
      ],
      "text/plain": [
       "<class 'statsmodels.iolib.summary.Summary'>\n",
       "\"\"\"\n",
       "                            OLS Regression Results                            \n",
       "==============================================================================\n",
       "Dep. Variable:                  price   R-squared:                       0.696\n",
       "Model:                            OLS   Adj. R-squared:                  0.696\n",
       "Method:                 Least Squares   F-statistic:                     3087.\n",
       "Date:                Mon, 18 Jul 2022   Prob (F-statistic):               0.00\n",
       "Time:                        21:31:56   Log-Likelihood:            -2.9453e+05\n",
       "No. Observations:               21597   AIC:                         5.891e+05\n",
       "Df Residuals:                   21580   BIC:                         5.892e+05\n",
       "Df Model:                          16                                         \n",
       "Covariance Type:            nonrobust                                         \n",
       "=================================================================================\n",
       "                    coef    std err          t      P>|t|      [0.025      0.975]\n",
       "---------------------------------------------------------------------------------\n",
       "const         -3.686e+07   1.57e+06    -23.456      0.000   -3.99e+07   -3.38e+07\n",
       "bedrooms      -3.755e+04   1990.758    -18.862      0.000   -4.15e+04   -3.36e+04\n",
       "bathrooms        4.4e+04   3172.672     13.868      0.000    3.78e+04    5.02e+04\n",
       "sqft_living      99.4216     18.153      5.477      0.000      63.840     135.003\n",
       "sqft_lot          0.1248      0.048      2.587      0.010       0.030       0.219\n",
       "waterfront     6.402e+05    1.8e+04     35.531      0.000    6.05e+05    6.76e+05\n",
       "view           3.528e+04   1538.229     22.937      0.000    3.23e+04    3.83e+04\n",
       "condition       3.14e+04   2342.017     13.409      0.000    2.68e+04     3.6e+04\n",
       "grade          9.795e+04   2167.291     45.193      0.000    9.37e+04    1.02e+05\n",
       "sqft_above       81.8241     18.087      4.524      0.000      46.372     117.276\n",
       "sqft_basement    49.3027     18.029      2.735      0.006      13.964      84.641\n",
       "yr_built      -2480.5287     70.368    -35.251      0.000   -2618.456   -2342.602\n",
       "yr_renovated     24.8607      4.000      6.214      0.000      17.020      32.702\n",
       "lat            5.578e+05   1.05e+04     53.171      0.000    5.37e+05    5.78e+05\n",
       "long          -1.187e+05   1.19e+04     -9.973      0.000   -1.42e+05   -9.54e+04\n",
       "sqft_living15    27.0173      3.435      7.864      0.000      20.283      33.751\n",
       "sqft_lot15       -0.4040      0.074     -5.472      0.000      -0.549      -0.259\n",
       "==============================================================================\n",
       "Omnibus:                    18415.726   Durbin-Watson:                   1.991\n",
       "Prob(Omnibus):                  0.000   Jarque-Bera (JB):          1822599.236\n",
       "Skew:                           3.591   Prob(JB):                         0.00\n",
       "Kurtosis:                      47.428   Cond. No.                     5.76e+07\n",
       "==============================================================================\n",
       "\n",
       "Notes:\n",
       "[1] Standard Errors assume that the covariance matrix of the errors is correctly specified.\n",
       "[2] The condition number is large, 5.76e+07. This might indicate that there are\n",
       "strong multicollinearity or other numerical problems.\n",
       "\"\"\""
      ]
     },
     "execution_count": 71,
     "metadata": {},
     "output_type": "execute_result"
    }
   ],
   "source": [
    "model2.summary()"
   ]
  },
  {
   "cell_type": "markdown",
   "metadata": {},
   "source": [
    "Not much changed. We are now confident that these variables have a meaningful impact on price, but the R-squared value has not increased. \n",
    "\n",
    "To try and increase our r-sqaured value, let's try engineering a new feature called \"livable area.\" It will be the product of bedrooms, bathrooms, and sqft_living, since bedrooms and bathrooms are part of what makes up living square footage."
   ]
  },
  {
   "cell_type": "code",
   "execution_count": 72,
   "metadata": {},
   "outputs": [],
   "source": [
    "model2_x['livable_area'] = model2_x['bedrooms'] * model2_x['bathrooms'] * model2_x['sqft_living']\n",
    "\n",
    "#multiplies bedrooms, bathrooms, and sqft_living, the product of which is our new value that goes in the dataframe"
   ]
  },
  {
   "cell_type": "code",
   "execution_count": 73,
   "metadata": {},
   "outputs": [
    {
     "name": "stdout",
     "output_type": "stream",
     "text": [
      "<class 'pandas.core.frame.DataFrame'>\n",
      "RangeIndex: 21597 entries, 0 to 21596\n",
      "Data columns (total 18 columns):\n",
      " #   Column         Non-Null Count  Dtype  \n",
      "---  ------         --------------  -----  \n",
      " 0   const          21597 non-null  float64\n",
      " 1   bedrooms       21597 non-null  int64  \n",
      " 2   bathrooms      21597 non-null  float64\n",
      " 3   sqft_living    21597 non-null  int64  \n",
      " 4   sqft_lot       21597 non-null  int64  \n",
      " 5   waterfront     21597 non-null  float64\n",
      " 6   view           21597 non-null  float64\n",
      " 7   condition      21597 non-null  float64\n",
      " 8   grade          21597 non-null  float64\n",
      " 9   sqft_above     21597 non-null  int64  \n",
      " 10  sqft_basement  21597 non-null  float64\n",
      " 11  yr_built       21597 non-null  int64  \n",
      " 12  yr_renovated   21597 non-null  float64\n",
      " 13  lat            21597 non-null  float64\n",
      " 14  long           21597 non-null  float64\n",
      " 15  sqft_living15  21597 non-null  int64  \n",
      " 16  sqft_lot15     21597 non-null  int64  \n",
      " 17  livable_area   21597 non-null  float64\n",
      "dtypes: float64(11), int64(7)\n",
      "memory usage: 3.0 MB\n"
     ]
    }
   ],
   "source": [
    "model2_x.info() #double check that the new column was created"
   ]
  },
  {
   "cell_type": "code",
   "execution_count": 74,
   "metadata": {},
   "outputs": [],
   "source": [
    "model3_x = model2_x.drop(['bedrooms','bathrooms','sqft_living'], axis=1) #removes the three columns we used to make the new \"livable_area\""
   ]
  },
  {
   "cell_type": "code",
   "execution_count": 75,
   "metadata": {},
   "outputs": [
    {
     "data": {
      "text/html": [
       "<table class=\"simpletable\">\n",
       "<caption>OLS Regression Results</caption>\n",
       "<tr>\n",
       "  <th>Dep. Variable:</th>          <td>price</td>      <th>  R-squared:         </th>  <td>   0.706</td>  \n",
       "</tr>\n",
       "<tr>\n",
       "  <th>Model:</th>                   <td>OLS</td>       <th>  Adj. R-squared:    </th>  <td>   0.706</td>  \n",
       "</tr>\n",
       "<tr>\n",
       "  <th>Method:</th>             <td>Least Squares</td>  <th>  F-statistic:       </th>  <td>   3703.</td>  \n",
       "</tr>\n",
       "<tr>\n",
       "  <th>Date:</th>             <td>Mon, 18 Jul 2022</td> <th>  Prob (F-statistic):</th>   <td>  0.00</td>   \n",
       "</tr>\n",
       "<tr>\n",
       "  <th>Time:</th>                 <td>21:31:56</td>     <th>  Log-Likelihood:    </th> <td>-2.9417e+05</td>\n",
       "</tr>\n",
       "<tr>\n",
       "  <th>No. Observations:</th>      <td> 21597</td>      <th>  AIC:               </th>  <td>5.884e+05</td> \n",
       "</tr>\n",
       "<tr>\n",
       "  <th>Df Residuals:</th>          <td> 21582</td>      <th>  BIC:               </th>  <td>5.885e+05</td> \n",
       "</tr>\n",
       "<tr>\n",
       "  <th>Df Model:</th>              <td>    14</td>      <th>                     </th>      <td> </td>     \n",
       "</tr>\n",
       "<tr>\n",
       "  <th>Covariance Type:</th>      <td>nonrobust</td>    <th>                     </th>      <td> </td>     \n",
       "</tr>\n",
       "</table>\n",
       "<table class=\"simpletable\">\n",
       "<tr>\n",
       "        <td></td>           <th>coef</th>     <th>std err</th>      <th>t</th>      <th>P>|t|</th>  <th>[0.025</th>    <th>0.975]</th>  \n",
       "</tr>\n",
       "<tr>\n",
       "  <th>const</th>         <td>-3.692e+07</td> <td> 1.54e+06</td> <td>  -23.986</td> <td> 0.000</td> <td>-3.99e+07</td> <td>-3.39e+07</td>\n",
       "</tr>\n",
       "<tr>\n",
       "  <th>sqft_lot</th>      <td>    0.1578</td> <td>    0.047</td> <td>    3.328</td> <td> 0.001</td> <td>    0.065</td> <td>    0.251</td>\n",
       "</tr>\n",
       "<tr>\n",
       "  <th>waterfront</th>    <td> 6.599e+05</td> <td> 1.77e+04</td> <td>   37.295</td> <td> 0.000</td> <td> 6.25e+05</td> <td> 6.95e+05</td>\n",
       "</tr>\n",
       "<tr>\n",
       "  <th>view</th>          <td> 3.727e+04</td> <td> 1506.107</td> <td>   24.744</td> <td> 0.000</td> <td> 3.43e+04</td> <td> 4.02e+04</td>\n",
       "</tr>\n",
       "<tr>\n",
       "  <th>condition</th>     <td> 3.335e+04</td> <td> 2295.315</td> <td>   14.529</td> <td> 0.000</td> <td> 2.88e+04</td> <td> 3.78e+04</td>\n",
       "</tr>\n",
       "<tr>\n",
       "  <th>grade</th>         <td> 1.113e+05</td> <td> 2105.446</td> <td>   52.845</td> <td> 0.000</td> <td> 1.07e+05</td> <td> 1.15e+05</td>\n",
       "</tr>\n",
       "<tr>\n",
       "  <th>sqft_above</th>    <td>   71.5157</td> <td>    4.203</td> <td>   17.016</td> <td> 0.000</td> <td>   63.278</td> <td>   79.754</td>\n",
       "</tr>\n",
       "<tr>\n",
       "  <th>sqft_basement</th> <td>   43.9037</td> <td>    4.494</td> <td>    9.768</td> <td> 0.000</td> <td>   35.094</td> <td>   52.713</td>\n",
       "</tr>\n",
       "<tr>\n",
       "  <th>yr_built</th>      <td>-2181.8217</td> <td>   63.236</td> <td>  -34.503</td> <td> 0.000</td> <td>-2305.770</td> <td>-2057.874</td>\n",
       "</tr>\n",
       "<tr>\n",
       "  <th>yr_renovated</th>  <td>   31.2010</td> <td>    3.896</td> <td>    8.008</td> <td> 0.000</td> <td>   23.564</td> <td>   38.838</td>\n",
       "</tr>\n",
       "<tr>\n",
       "  <th>lat</th>           <td>  5.68e+05</td> <td> 1.03e+04</td> <td>   55.186</td> <td> 0.000</td> <td> 5.48e+05</td> <td> 5.88e+05</td>\n",
       "</tr>\n",
       "<tr>\n",
       "  <th>long</th>          <td>-1.101e+05</td> <td> 1.17e+04</td> <td>   -9.414</td> <td> 0.000</td> <td>-1.33e+05</td> <td>-8.72e+04</td>\n",
       "</tr>\n",
       "<tr>\n",
       "  <th>sqft_living15</th> <td>   39.6957</td> <td>    3.393</td> <td>   11.698</td> <td> 0.000</td> <td>   33.045</td> <td>   46.347</td>\n",
       "</tr>\n",
       "<tr>\n",
       "  <th>sqft_lot15</th>    <td>   -0.3175</td> <td>    0.072</td> <td>   -4.384</td> <td> 0.000</td> <td>   -0.459</td> <td>   -0.176</td>\n",
       "</tr>\n",
       "<tr>\n",
       "  <th>livable_area</th>  <td>    4.6282</td> <td>    0.131</td> <td>   35.359</td> <td> 0.000</td> <td>    4.372</td> <td>    4.885</td>\n",
       "</tr>\n",
       "</table>\n",
       "<table class=\"simpletable\">\n",
       "<tr>\n",
       "  <th>Omnibus:</th>       <td>14601.712</td> <th>  Durbin-Watson:     </th>  <td>   1.989</td> \n",
       "</tr>\n",
       "<tr>\n",
       "  <th>Prob(Omnibus):</th>  <td> 0.000</td>   <th>  Jarque-Bera (JB):  </th> <td>912658.916</td>\n",
       "</tr>\n",
       "<tr>\n",
       "  <th>Skew:</th>           <td> 2.580</td>   <th>  Prob(JB):          </th>  <td>    0.00</td> \n",
       "</tr>\n",
       "<tr>\n",
       "  <th>Kurtosis:</th>       <td>34.426</td>   <th>  Cond. No.          </th>  <td>5.88e+07</td> \n",
       "</tr>\n",
       "</table><br/><br/>Notes:<br/>[1] Standard Errors assume that the covariance matrix of the errors is correctly specified.<br/>[2] The condition number is large, 5.88e+07. This might indicate that there are<br/>strong multicollinearity or other numerical problems."
      ],
      "text/plain": [
       "<class 'statsmodels.iolib.summary.Summary'>\n",
       "\"\"\"\n",
       "                            OLS Regression Results                            \n",
       "==============================================================================\n",
       "Dep. Variable:                  price   R-squared:                       0.706\n",
       "Model:                            OLS   Adj. R-squared:                  0.706\n",
       "Method:                 Least Squares   F-statistic:                     3703.\n",
       "Date:                Mon, 18 Jul 2022   Prob (F-statistic):               0.00\n",
       "Time:                        21:31:56   Log-Likelihood:            -2.9417e+05\n",
       "No. Observations:               21597   AIC:                         5.884e+05\n",
       "Df Residuals:                   21582   BIC:                         5.885e+05\n",
       "Df Model:                          14                                         \n",
       "Covariance Type:            nonrobust                                         \n",
       "=================================================================================\n",
       "                    coef    std err          t      P>|t|      [0.025      0.975]\n",
       "---------------------------------------------------------------------------------\n",
       "const         -3.692e+07   1.54e+06    -23.986      0.000   -3.99e+07   -3.39e+07\n",
       "sqft_lot          0.1578      0.047      3.328      0.001       0.065       0.251\n",
       "waterfront     6.599e+05   1.77e+04     37.295      0.000    6.25e+05    6.95e+05\n",
       "view           3.727e+04   1506.107     24.744      0.000    3.43e+04    4.02e+04\n",
       "condition      3.335e+04   2295.315     14.529      0.000    2.88e+04    3.78e+04\n",
       "grade          1.113e+05   2105.446     52.845      0.000    1.07e+05    1.15e+05\n",
       "sqft_above       71.5157      4.203     17.016      0.000      63.278      79.754\n",
       "sqft_basement    43.9037      4.494      9.768      0.000      35.094      52.713\n",
       "yr_built      -2181.8217     63.236    -34.503      0.000   -2305.770   -2057.874\n",
       "yr_renovated     31.2010      3.896      8.008      0.000      23.564      38.838\n",
       "lat             5.68e+05   1.03e+04     55.186      0.000    5.48e+05    5.88e+05\n",
       "long          -1.101e+05   1.17e+04     -9.414      0.000   -1.33e+05   -8.72e+04\n",
       "sqft_living15    39.6957      3.393     11.698      0.000      33.045      46.347\n",
       "sqft_lot15       -0.3175      0.072     -4.384      0.000      -0.459      -0.176\n",
       "livable_area      4.6282      0.131     35.359      0.000       4.372       4.885\n",
       "==============================================================================\n",
       "Omnibus:                    14601.712   Durbin-Watson:                   1.989\n",
       "Prob(Omnibus):                  0.000   Jarque-Bera (JB):           912658.916\n",
       "Skew:                           2.580   Prob(JB):                         0.00\n",
       "Kurtosis:                      34.426   Cond. No.                     5.88e+07\n",
       "==============================================================================\n",
       "\n",
       "Notes:\n",
       "[1] Standard Errors assume that the covariance matrix of the errors is correctly specified.\n",
       "[2] The condition number is large, 5.88e+07. This might indicate that there are\n",
       "strong multicollinearity or other numerical problems.\n",
       "\"\"\""
      ]
     },
     "execution_count": 75,
     "metadata": {},
     "output_type": "execute_result"
    }
   ],
   "source": [
    "model3 = sm.OLS(target, model3_x).fit()\n",
    "\n",
    "model3.summary()"
   ]
  },
  {
   "cell_type": "markdown",
   "metadata": {},
   "source": [
    "Our new feature helps the model explain only slightly more of the variance, but it is a rather robust feature with a very small standard error. This makes it a reliable explainor of the variance.\n",
    "\n",
    "An r-squared 0.706 is really good. Having explained over 70% of the variance in price, we can move forward with making recommendations with a good degree of confidence that our advice to stakeholders will be worthwhile. \n",
    "\n",
    "The next thing to tackle is the possible colinearity, as indicated by the notes at the bottom of the table. We will determine the VIF, or variance inflation factor, for each feature. This will tell us the amount of multicolinearity of each individual variable. Generally, a score below 5 is safe, 5-10 is a \"use with caution\" zone, and anything above 10 must be removed. "
   ]
  },
  {
   "cell_type": "code",
   "execution_count": 76,
   "metadata": {},
   "outputs": [],
   "source": [
    "vif_data = pd.DataFrame()"
   ]
  },
  {
   "cell_type": "code",
   "execution_count": 77,
   "metadata": {},
   "outputs": [],
   "source": [
    "vif_data['feature'] = model3_x.columns"
   ]
  },
  {
   "cell_type": "code",
   "execution_count": 78,
   "metadata": {},
   "outputs": [],
   "source": [
    "vif_data['VIF'] = [variance_inflation_factor(model3_x.values, i)\n",
    "                          for i in range(len(model3_x.columns))]"
   ]
  },
  {
   "cell_type": "code",
   "execution_count": 79,
   "metadata": {},
   "outputs": [
    {
     "data": {
      "text/html": [
       "<div>\n",
       "<style scoped>\n",
       "    .dataframe tbody tr th:only-of-type {\n",
       "        vertical-align: middle;\n",
       "    }\n",
       "\n",
       "    .dataframe tbody tr th {\n",
       "        vertical-align: top;\n",
       "    }\n",
       "\n",
       "    .dataframe thead th {\n",
       "        text-align: right;\n",
       "    }\n",
       "</style>\n",
       "<table border=\"1\" class=\"dataframe\">\n",
       "  <thead>\n",
       "    <tr style=\"text-align: right;\">\n",
       "      <th></th>\n",
       "      <th>feature</th>\n",
       "      <th>VIF</th>\n",
       "    </tr>\n",
       "  </thead>\n",
       "  <tbody>\n",
       "    <tr>\n",
       "      <th>0</th>\n",
       "      <td>const</td>\n",
       "      <td>1.288807e+06</td>\n",
       "    </tr>\n",
       "    <tr>\n",
       "      <th>1</th>\n",
       "      <td>sqft_lot</td>\n",
       "      <td>2.097904e+00</td>\n",
       "    </tr>\n",
       "    <tr>\n",
       "      <th>2</th>\n",
       "      <td>waterfront</td>\n",
       "      <td>1.143830e+00</td>\n",
       "    </tr>\n",
       "    <tr>\n",
       "      <th>3</th>\n",
       "      <td>view</td>\n",
       "      <td>1.349760e+00</td>\n",
       "    </tr>\n",
       "    <tr>\n",
       "      <th>4</th>\n",
       "      <td>condition</td>\n",
       "      <td>1.213039e+00</td>\n",
       "    </tr>\n",
       "    <tr>\n",
       "      <th>5</th>\n",
       "      <td>grade</td>\n",
       "      <td>3.319453e+00</td>\n",
       "    </tr>\n",
       "    <tr>\n",
       "      <th>6</th>\n",
       "      <td>sqft_above</td>\n",
       "      <td>6.584822e+00</td>\n",
       "    </tr>\n",
       "    <tr>\n",
       "      <th>7</th>\n",
       "      <td>sqft_basement</td>\n",
       "      <td>2.125884e+00</td>\n",
       "    </tr>\n",
       "    <tr>\n",
       "      <th>8</th>\n",
       "      <td>yr_built</td>\n",
       "      <td>1.877289e+00</td>\n",
       "    </tr>\n",
       "    <tr>\n",
       "      <th>9</th>\n",
       "      <td>yr_renovated</td>\n",
       "      <td>1.094486e+00</td>\n",
       "    </tr>\n",
       "    <tr>\n",
       "      <th>10</th>\n",
       "      <td>lat</td>\n",
       "      <td>1.106251e+00</td>\n",
       "    </tr>\n",
       "    <tr>\n",
       "      <th>11</th>\n",
       "      <td>long</td>\n",
       "      <td>1.473717e+00</td>\n",
       "    </tr>\n",
       "    <tr>\n",
       "      <th>12</th>\n",
       "      <td>sqft_living15</td>\n",
       "      <td>2.941394e+00</td>\n",
       "    </tr>\n",
       "    <tr>\n",
       "      <th>13</th>\n",
       "      <td>sqft_lot15</td>\n",
       "      <td>2.122974e+00</td>\n",
       "    </tr>\n",
       "    <tr>\n",
       "      <th>14</th>\n",
       "      <td>livable_area</td>\n",
       "      <td>3.948878e+00</td>\n",
       "    </tr>\n",
       "  </tbody>\n",
       "</table>\n",
       "</div>"
      ],
      "text/plain": [
       "          feature           VIF\n",
       "0           const  1.288807e+06\n",
       "1        sqft_lot  2.097904e+00\n",
       "2      waterfront  1.143830e+00\n",
       "3            view  1.349760e+00\n",
       "4       condition  1.213039e+00\n",
       "5           grade  3.319453e+00\n",
       "6      sqft_above  6.584822e+00\n",
       "7   sqft_basement  2.125884e+00\n",
       "8        yr_built  1.877289e+00\n",
       "9    yr_renovated  1.094486e+00\n",
       "10            lat  1.106251e+00\n",
       "11           long  1.473717e+00\n",
       "12  sqft_living15  2.941394e+00\n",
       "13     sqft_lot15  2.122974e+00\n",
       "14   livable_area  3.948878e+00"
      ]
     },
     "execution_count": 79,
     "metadata": {},
     "output_type": "execute_result"
    }
   ],
   "source": [
    "vif_data"
   ]
  },
  {
   "cell_type": "markdown",
   "metadata": {},
   "source": [
    "The only feature with a VIF above 5 is sqft_above. It's not a make-or-break for our model, but we'll go ahead and remove it anyway just to be safe."
   ]
  },
  {
   "cell_type": "code",
   "execution_count": 80,
   "metadata": {},
   "outputs": [
    {
     "name": "stdout",
     "output_type": "stream",
     "text": [
      "<class 'pandas.core.frame.DataFrame'>\n",
      "RangeIndex: 21597 entries, 0 to 21596\n",
      "Data columns (total 14 columns):\n",
      " #   Column         Non-Null Count  Dtype  \n",
      "---  ------         --------------  -----  \n",
      " 0   const          21597 non-null  float64\n",
      " 1   sqft_lot       21597 non-null  int64  \n",
      " 2   waterfront     21597 non-null  float64\n",
      " 3   view           21597 non-null  float64\n",
      " 4   condition      21597 non-null  float64\n",
      " 5   grade          21597 non-null  float64\n",
      " 6   sqft_basement  21597 non-null  float64\n",
      " 7   yr_built       21597 non-null  int64  \n",
      " 8   yr_renovated   21597 non-null  float64\n",
      " 9   lat            21597 non-null  float64\n",
      " 10  long           21597 non-null  float64\n",
      " 11  sqft_living15  21597 non-null  int64  \n",
      " 12  sqft_lot15     21597 non-null  int64  \n",
      " 13  livable_area   21597 non-null  float64\n",
      "dtypes: float64(10), int64(4)\n",
      "memory usage: 2.3 MB\n"
     ]
    }
   ],
   "source": [
    "model4_x = model3_x.drop('sqft_above', axis=1) #remove the feature that had a VIF above 5\n",
    "\n",
    "model4_x.info()"
   ]
  },
  {
   "cell_type": "code",
   "execution_count": 81,
   "metadata": {},
   "outputs": [
    {
     "data": {
      "text/html": [
       "<table class=\"simpletable\">\n",
       "<caption>OLS Regression Results</caption>\n",
       "<tr>\n",
       "  <th>Dep. Variable:</th>          <td>price</td>      <th>  R-squared:         </th>  <td>   0.702</td>  \n",
       "</tr>\n",
       "<tr>\n",
       "  <th>Model:</th>                   <td>OLS</td>       <th>  Adj. R-squared:    </th>  <td>   0.702</td>  \n",
       "</tr>\n",
       "<tr>\n",
       "  <th>Method:</th>             <td>Least Squares</td>  <th>  F-statistic:       </th>  <td>   3913.</td>  \n",
       "</tr>\n",
       "<tr>\n",
       "  <th>Date:</th>             <td>Mon, 18 Jul 2022</td> <th>  Prob (F-statistic):</th>   <td>  0.00</td>   \n",
       "</tr>\n",
       "<tr>\n",
       "  <th>Time:</th>                 <td>21:31:58</td>     <th>  Log-Likelihood:    </th> <td>-2.9431e+05</td>\n",
       "</tr>\n",
       "<tr>\n",
       "  <th>No. Observations:</th>      <td> 21597</td>      <th>  AIC:               </th>  <td>5.887e+05</td> \n",
       "</tr>\n",
       "<tr>\n",
       "  <th>Df Residuals:</th>          <td> 21583</td>      <th>  BIC:               </th>  <td>5.888e+05</td> \n",
       "</tr>\n",
       "<tr>\n",
       "  <th>Df Model:</th>              <td>    13</td>      <th>                     </th>      <td> </td>     \n",
       "</tr>\n",
       "<tr>\n",
       "  <th>Covariance Type:</th>      <td>nonrobust</td>    <th>                     </th>      <td> </td>     \n",
       "</tr>\n",
       "</table>\n",
       "<table class=\"simpletable\">\n",
       "<tr>\n",
       "        <td></td>           <th>coef</th>     <th>std err</th>      <th>t</th>      <th>P>|t|</th>  <th>[0.025</th>    <th>0.975]</th>  \n",
       "</tr>\n",
       "<tr>\n",
       "  <th>const</th>         <td>-3.412e+07</td> <td> 1.54e+06</td> <td>  -22.147</td> <td> 0.000</td> <td>-3.71e+07</td> <td>-3.11e+07</td>\n",
       "</tr>\n",
       "<tr>\n",
       "  <th>sqft_lot</th>      <td>    0.1960</td> <td>    0.048</td> <td>    4.110</td> <td> 0.000</td> <td>    0.103</td> <td>    0.289</td>\n",
       "</tr>\n",
       "<tr>\n",
       "  <th>waterfront</th>    <td> 6.699e+05</td> <td> 1.78e+04</td> <td>   37.630</td> <td> 0.000</td> <td> 6.35e+05</td> <td> 7.05e+05</td>\n",
       "</tr>\n",
       "<tr>\n",
       "  <th>view</th>          <td>  3.63e+04</td> <td> 1515.050</td> <td>   23.956</td> <td> 0.000</td> <td> 3.33e+04</td> <td> 3.93e+04</td>\n",
       "</tr>\n",
       "<tr>\n",
       "  <th>condition</th>     <td> 3.394e+04</td> <td> 2310.340</td> <td>   14.691</td> <td> 0.000</td> <td> 2.94e+04</td> <td> 3.85e+04</td>\n",
       "</tr>\n",
       "<tr>\n",
       "  <th>grade</th>         <td> 1.256e+05</td> <td> 1942.588</td> <td>   64.651</td> <td> 0.000</td> <td> 1.22e+05</td> <td> 1.29e+05</td>\n",
       "</tr>\n",
       "<tr>\n",
       "  <th>sqft_basement</th> <td>   -2.2493</td> <td>    3.608</td> <td>   -0.623</td> <td> 0.533</td> <td>   -9.321</td> <td>    4.822</td>\n",
       "</tr>\n",
       "<tr>\n",
       "  <th>yr_built</th>      <td>-2180.7830</td> <td>   63.658</td> <td>  -34.258</td> <td> 0.000</td> <td>-2305.557</td> <td>-2056.009</td>\n",
       "</tr>\n",
       "<tr>\n",
       "  <th>yr_renovated</th>  <td>   33.5821</td> <td>    3.920</td> <td>    8.568</td> <td> 0.000</td> <td>   25.899</td> <td>   41.265</td>\n",
       "</tr>\n",
       "<tr>\n",
       "  <th>lat</th>           <td> 5.581e+05</td> <td> 1.03e+04</td> <td>   53.952</td> <td> 0.000</td> <td> 5.38e+05</td> <td> 5.78e+05</td>\n",
       "</tr>\n",
       "<tr>\n",
       "  <th>long</th>          <td>-9.065e+04</td> <td> 1.17e+04</td> <td>   -7.737</td> <td> 0.000</td> <td>-1.14e+05</td> <td>-6.77e+04</td>\n",
       "</tr>\n",
       "<tr>\n",
       "  <th>sqft_living15</th> <td>   62.0167</td> <td>    3.150</td> <td>   19.686</td> <td> 0.000</td> <td>   55.842</td> <td>   68.192</td>\n",
       "</tr>\n",
       "<tr>\n",
       "  <th>sqft_lot15</th>    <td>   -0.2845</td> <td>    0.073</td> <td>   -3.904</td> <td> 0.000</td> <td>   -0.427</td> <td>   -0.142</td>\n",
       "</tr>\n",
       "<tr>\n",
       "  <th>livable_area</th>  <td>    6.1791</td> <td>    0.095</td> <td>   65.338</td> <td> 0.000</td> <td>    5.994</td> <td>    6.364</td>\n",
       "</tr>\n",
       "</table>\n",
       "<table class=\"simpletable\">\n",
       "<tr>\n",
       "  <th>Omnibus:</th>       <td>13952.842</td> <th>  Durbin-Watson:     </th>  <td>   1.988</td>  \n",
       "</tr>\n",
       "<tr>\n",
       "  <th>Prob(Omnibus):</th>  <td> 0.000</td>   <th>  Jarque-Bera (JB):  </th> <td>1002064.255</td>\n",
       "</tr>\n",
       "<tr>\n",
       "  <th>Skew:</th>           <td> 2.357</td>   <th>  Prob(JB):          </th>  <td>    0.00</td>  \n",
       "</tr>\n",
       "<tr>\n",
       "  <th>Kurtosis:</th>       <td>36.035</td>   <th>  Cond. No.          </th>  <td>5.85e+07</td>  \n",
       "</tr>\n",
       "</table><br/><br/>Notes:<br/>[1] Standard Errors assume that the covariance matrix of the errors is correctly specified.<br/>[2] The condition number is large, 5.85e+07. This might indicate that there are<br/>strong multicollinearity or other numerical problems."
      ],
      "text/plain": [
       "<class 'statsmodels.iolib.summary.Summary'>\n",
       "\"\"\"\n",
       "                            OLS Regression Results                            \n",
       "==============================================================================\n",
       "Dep. Variable:                  price   R-squared:                       0.702\n",
       "Model:                            OLS   Adj. R-squared:                  0.702\n",
       "Method:                 Least Squares   F-statistic:                     3913.\n",
       "Date:                Mon, 18 Jul 2022   Prob (F-statistic):               0.00\n",
       "Time:                        21:31:58   Log-Likelihood:            -2.9431e+05\n",
       "No. Observations:               21597   AIC:                         5.887e+05\n",
       "Df Residuals:                   21583   BIC:                         5.888e+05\n",
       "Df Model:                          13                                         \n",
       "Covariance Type:            nonrobust                                         \n",
       "=================================================================================\n",
       "                    coef    std err          t      P>|t|      [0.025      0.975]\n",
       "---------------------------------------------------------------------------------\n",
       "const         -3.412e+07   1.54e+06    -22.147      0.000   -3.71e+07   -3.11e+07\n",
       "sqft_lot          0.1960      0.048      4.110      0.000       0.103       0.289\n",
       "waterfront     6.699e+05   1.78e+04     37.630      0.000    6.35e+05    7.05e+05\n",
       "view            3.63e+04   1515.050     23.956      0.000    3.33e+04    3.93e+04\n",
       "condition      3.394e+04   2310.340     14.691      0.000    2.94e+04    3.85e+04\n",
       "grade          1.256e+05   1942.588     64.651      0.000    1.22e+05    1.29e+05\n",
       "sqft_basement    -2.2493      3.608     -0.623      0.533      -9.321       4.822\n",
       "yr_built      -2180.7830     63.658    -34.258      0.000   -2305.557   -2056.009\n",
       "yr_renovated     33.5821      3.920      8.568      0.000      25.899      41.265\n",
       "lat            5.581e+05   1.03e+04     53.952      0.000    5.38e+05    5.78e+05\n",
       "long          -9.065e+04   1.17e+04     -7.737      0.000   -1.14e+05   -6.77e+04\n",
       "sqft_living15    62.0167      3.150     19.686      0.000      55.842      68.192\n",
       "sqft_lot15       -0.2845      0.073     -3.904      0.000      -0.427      -0.142\n",
       "livable_area      6.1791      0.095     65.338      0.000       5.994       6.364\n",
       "==============================================================================\n",
       "Omnibus:                    13952.842   Durbin-Watson:                   1.988\n",
       "Prob(Omnibus):                  0.000   Jarque-Bera (JB):          1002064.255\n",
       "Skew:                           2.357   Prob(JB):                         0.00\n",
       "Kurtosis:                      36.035   Cond. No.                     5.85e+07\n",
       "==============================================================================\n",
       "\n",
       "Notes:\n",
       "[1] Standard Errors assume that the covariance matrix of the errors is correctly specified.\n",
       "[2] The condition number is large, 5.85e+07. This might indicate that there are\n",
       "strong multicollinearity or other numerical problems.\n",
       "\"\"\""
      ]
     },
     "execution_count": 81,
     "metadata": {},
     "output_type": "execute_result"
    }
   ],
   "source": [
    "model4 = sm.OLS(target, model4_x).fit()\n",
    "\n",
    "model4.summary()"
   ]
  },
  {
   "cell_type": "markdown",
   "metadata": {},
   "source": [
    "Our model still explains about the same amount of variance. However, sqft_basement is now unreliable as a variable witha p-value way above 0.05. So, we'll have to remove that."
   ]
  },
  {
   "cell_type": "code",
   "execution_count": 82,
   "metadata": {},
   "outputs": [
    {
     "name": "stdout",
     "output_type": "stream",
     "text": [
      "<class 'pandas.core.frame.DataFrame'>\n",
      "RangeIndex: 21597 entries, 0 to 21596\n",
      "Data columns (total 13 columns):\n",
      " #   Column         Non-Null Count  Dtype  \n",
      "---  ------         --------------  -----  \n",
      " 0   const          21597 non-null  float64\n",
      " 1   sqft_lot       21597 non-null  int64  \n",
      " 2   waterfront     21597 non-null  float64\n",
      " 3   view           21597 non-null  float64\n",
      " 4   condition      21597 non-null  float64\n",
      " 5   grade          21597 non-null  float64\n",
      " 6   yr_built       21597 non-null  int64  \n",
      " 7   yr_renovated   21597 non-null  float64\n",
      " 8   lat            21597 non-null  float64\n",
      " 9   long           21597 non-null  float64\n",
      " 10  sqft_living15  21597 non-null  int64  \n",
      " 11  sqft_lot15     21597 non-null  int64  \n",
      " 12  livable_area   21597 non-null  float64\n",
      "dtypes: float64(9), int64(4)\n",
      "memory usage: 2.1 MB\n"
     ]
    }
   ],
   "source": [
    "model5_x = model4_x.drop('sqft_basement', axis=1)\n",
    "\n",
    "model5_x.info()"
   ]
  },
  {
   "cell_type": "code",
   "execution_count": 83,
   "metadata": {},
   "outputs": [
    {
     "data": {
      "text/html": [
       "<table class=\"simpletable\">\n",
       "<caption>OLS Regression Results</caption>\n",
       "<tr>\n",
       "  <th>Dep. Variable:</th>          <td>price</td>      <th>  R-squared:         </th>  <td>   0.702</td>  \n",
       "</tr>\n",
       "<tr>\n",
       "  <th>Model:</th>                   <td>OLS</td>       <th>  Adj. R-squared:    </th>  <td>   0.702</td>  \n",
       "</tr>\n",
       "<tr>\n",
       "  <th>Method:</th>             <td>Least Squares</td>  <th>  F-statistic:       </th>  <td>   4239.</td>  \n",
       "</tr>\n",
       "<tr>\n",
       "  <th>Date:</th>             <td>Mon, 18 Jul 2022</td> <th>  Prob (F-statistic):</th>   <td>  0.00</td>   \n",
       "</tr>\n",
       "<tr>\n",
       "  <th>Time:</th>                 <td>21:31:59</td>     <th>  Log-Likelihood:    </th> <td>-2.9431e+05</td>\n",
       "</tr>\n",
       "<tr>\n",
       "  <th>No. Observations:</th>      <td> 21597</td>      <th>  AIC:               </th>  <td>5.887e+05</td> \n",
       "</tr>\n",
       "<tr>\n",
       "  <th>Df Residuals:</th>          <td> 21584</td>      <th>  BIC:               </th>  <td>5.888e+05</td> \n",
       "</tr>\n",
       "<tr>\n",
       "  <th>Df Model:</th>              <td>    12</td>      <th>                     </th>      <td> </td>     \n",
       "</tr>\n",
       "<tr>\n",
       "  <th>Covariance Type:</th>      <td>nonrobust</td>    <th>                     </th>      <td> </td>     \n",
       "</tr>\n",
       "</table>\n",
       "<table class=\"simpletable\">\n",
       "<tr>\n",
       "        <td></td>           <th>coef</th>     <th>std err</th>      <th>t</th>      <th>P>|t|</th>  <th>[0.025</th>    <th>0.975]</th>  \n",
       "</tr>\n",
       "<tr>\n",
       "  <th>const</th>         <td>-3.398e+07</td> <td> 1.52e+06</td> <td>  -22.283</td> <td> 0.000</td> <td> -3.7e+07</td> <td> -3.1e+07</td>\n",
       "</tr>\n",
       "<tr>\n",
       "  <th>sqft_lot</th>      <td>    0.1962</td> <td>    0.048</td> <td>    4.114</td> <td> 0.000</td> <td>    0.103</td> <td>    0.290</td>\n",
       "</tr>\n",
       "<tr>\n",
       "  <th>waterfront</th>    <td> 6.701e+05</td> <td> 1.78e+04</td> <td>   37.649</td> <td> 0.000</td> <td> 6.35e+05</td> <td> 7.05e+05</td>\n",
       "</tr>\n",
       "<tr>\n",
       "  <th>view</th>          <td> 3.614e+04</td> <td> 1494.386</td> <td>   24.184</td> <td> 0.000</td> <td> 3.32e+04</td> <td> 3.91e+04</td>\n",
       "</tr>\n",
       "<tr>\n",
       "  <th>condition</th>     <td> 3.374e+04</td> <td> 2287.665</td> <td>   14.749</td> <td> 0.000</td> <td> 2.93e+04</td> <td> 3.82e+04</td>\n",
       "</tr>\n",
       "<tr>\n",
       "  <th>grade</th>         <td> 1.257e+05</td> <td> 1938.341</td> <td>   64.834</td> <td> 0.000</td> <td> 1.22e+05</td> <td> 1.29e+05</td>\n",
       "</tr>\n",
       "<tr>\n",
       "  <th>yr_built</th>      <td>-2177.5578</td> <td>   63.446</td> <td>  -34.321</td> <td> 0.000</td> <td>-2301.917</td> <td>-2053.199</td>\n",
       "</tr>\n",
       "<tr>\n",
       "  <th>yr_renovated</th>  <td>   33.5594</td> <td>    3.919</td> <td>    8.562</td> <td> 0.000</td> <td>   25.877</td> <td>   41.242</td>\n",
       "</tr>\n",
       "<tr>\n",
       "  <th>lat</th>           <td> 5.576e+05</td> <td> 1.03e+04</td> <td>   54.050</td> <td> 0.000</td> <td> 5.37e+05</td> <td> 5.78e+05</td>\n",
       "</tr>\n",
       "<tr>\n",
       "  <th>long</th>          <td>-8.967e+04</td> <td> 1.16e+04</td> <td>   -7.723</td> <td> 0.000</td> <td>-1.12e+05</td> <td>-6.69e+04</td>\n",
       "</tr>\n",
       "<tr>\n",
       "  <th>sqft_living15</th> <td>   61.9312</td> <td>    3.147</td> <td>   19.677</td> <td> 0.000</td> <td>   55.762</td> <td>   68.100</td>\n",
       "</tr>\n",
       "<tr>\n",
       "  <th>sqft_lot15</th>    <td>   -0.2847</td> <td>    0.073</td> <td>   -3.906</td> <td> 0.000</td> <td>   -0.428</td> <td>   -0.142</td>\n",
       "</tr>\n",
       "<tr>\n",
       "  <th>livable_area</th>  <td>    6.1589</td> <td>    0.089</td> <td>   69.304</td> <td> 0.000</td> <td>    5.985</td> <td>    6.333</td>\n",
       "</tr>\n",
       "</table>\n",
       "<table class=\"simpletable\">\n",
       "<tr>\n",
       "  <th>Omnibus:</th>       <td>13964.327</td> <th>  Durbin-Watson:     </th>  <td>   1.987</td>  \n",
       "</tr>\n",
       "<tr>\n",
       "  <th>Prob(Omnibus):</th>  <td> 0.000</td>   <th>  Jarque-Bera (JB):  </th> <td>1001147.954</td>\n",
       "</tr>\n",
       "<tr>\n",
       "  <th>Skew:</th>           <td> 2.361</td>   <th>  Prob(JB):          </th>  <td>    0.00</td>  \n",
       "</tr>\n",
       "<tr>\n",
       "  <th>Kurtosis:</th>       <td>36.019</td>   <th>  Cond. No.          </th>  <td>5.79e+07</td>  \n",
       "</tr>\n",
       "</table><br/><br/>Notes:<br/>[1] Standard Errors assume that the covariance matrix of the errors is correctly specified.<br/>[2] The condition number is large, 5.79e+07. This might indicate that there are<br/>strong multicollinearity or other numerical problems."
      ],
      "text/plain": [
       "<class 'statsmodels.iolib.summary.Summary'>\n",
       "\"\"\"\n",
       "                            OLS Regression Results                            \n",
       "==============================================================================\n",
       "Dep. Variable:                  price   R-squared:                       0.702\n",
       "Model:                            OLS   Adj. R-squared:                  0.702\n",
       "Method:                 Least Squares   F-statistic:                     4239.\n",
       "Date:                Mon, 18 Jul 2022   Prob (F-statistic):               0.00\n",
       "Time:                        21:31:59   Log-Likelihood:            -2.9431e+05\n",
       "No. Observations:               21597   AIC:                         5.887e+05\n",
       "Df Residuals:                   21584   BIC:                         5.888e+05\n",
       "Df Model:                          12                                         \n",
       "Covariance Type:            nonrobust                                         \n",
       "=================================================================================\n",
       "                    coef    std err          t      P>|t|      [0.025      0.975]\n",
       "---------------------------------------------------------------------------------\n",
       "const         -3.398e+07   1.52e+06    -22.283      0.000    -3.7e+07    -3.1e+07\n",
       "sqft_lot          0.1962      0.048      4.114      0.000       0.103       0.290\n",
       "waterfront     6.701e+05   1.78e+04     37.649      0.000    6.35e+05    7.05e+05\n",
       "view           3.614e+04   1494.386     24.184      0.000    3.32e+04    3.91e+04\n",
       "condition      3.374e+04   2287.665     14.749      0.000    2.93e+04    3.82e+04\n",
       "grade          1.257e+05   1938.341     64.834      0.000    1.22e+05    1.29e+05\n",
       "yr_built      -2177.5578     63.446    -34.321      0.000   -2301.917   -2053.199\n",
       "yr_renovated     33.5594      3.919      8.562      0.000      25.877      41.242\n",
       "lat            5.576e+05   1.03e+04     54.050      0.000    5.37e+05    5.78e+05\n",
       "long          -8.967e+04   1.16e+04     -7.723      0.000   -1.12e+05   -6.69e+04\n",
       "sqft_living15    61.9312      3.147     19.677      0.000      55.762      68.100\n",
       "sqft_lot15       -0.2847      0.073     -3.906      0.000      -0.428      -0.142\n",
       "livable_area      6.1589      0.089     69.304      0.000       5.985       6.333\n",
       "==============================================================================\n",
       "Omnibus:                    13964.327   Durbin-Watson:                   1.987\n",
       "Prob(Omnibus):                  0.000   Jarque-Bera (JB):          1001147.954\n",
       "Skew:                           2.361   Prob(JB):                         0.00\n",
       "Kurtosis:                      36.019   Cond. No.                     5.79e+07\n",
       "==============================================================================\n",
       "\n",
       "Notes:\n",
       "[1] Standard Errors assume that the covariance matrix of the errors is correctly specified.\n",
       "[2] The condition number is large, 5.79e+07. This might indicate that there are\n",
       "strong multicollinearity or other numerical problems.\n",
       "\"\"\""
      ]
     },
     "execution_count": 83,
     "metadata": {},
     "output_type": "execute_result"
    }
   ],
   "source": [
    "model5 = sm.OLS(target, model5_x).fit()\n",
    "\n",
    "model5.summary()"
   ]
  },
  {
   "cell_type": "markdown",
   "metadata": {},
   "source": [
    "Now we are confident that each variable has an effect on price, and our model explains enough variance that our suggestions will hold weight.\n",
    "\n",
    "Now we will perform tests for independent errors, normality, and homoscedasity. We may have to alter our model if any of these tests fail. Explanations for each test will ensue."
   ]
  },
  {
   "cell_type": "markdown",
   "metadata": {},
   "source": [
    "## Testing Assumptions of Linear Regression"
   ]
  },
  {
   "cell_type": "markdown",
   "metadata": {},
   "source": [
    "The first thing we're testing for is indpendence of errors. Essentially, we want to know that our observations about each variable or not being influenced by the other variables in the model."
   ]
  },
  {
   "cell_type": "code",
   "execution_count": 84,
   "metadata": {},
   "outputs": [
    {
     "data": {
      "text/plain": [
       "1.9874736447607155"
      ]
     },
     "execution_count": 84,
     "metadata": {},
     "output_type": "execute_result"
    }
   ],
   "source": [
    "#tests for independent errors, anything between 1.5 and 2.5 is acceptable, and closer to 2 is better\n",
    "\n",
    "statsmodels.stats.stattools.durbin_watson(model5.resid)\n"
   ]
  },
  {
   "cell_type": "markdown",
   "metadata": {},
   "source": [
    "This matches the Durbin-Watson calculation that we got earlier, so we're good there."
   ]
  },
  {
   "cell_type": "code",
   "execution_count": 92,
   "metadata": {},
   "outputs": [
    {
     "data": {
      "text/plain": [
       "((array([-3.99686021, -3.78162805, -3.66389368, ...,  3.66389368,\n",
       "          3.78162805,  3.99686021]),\n",
       "  array([-3664104.76950946, -2348105.51121975, -1527351.38257436, ...,\n",
       "          2884868.15187338,  2997902.23778871,  3771286.87665673])),\n",
       " (179426.63914891498, 6.603347086497697e-09, 0.894732607063179))"
      ]
     },
     "execution_count": 92,
     "metadata": {},
     "output_type": "execute_result"
    },
    {
     "data": {
      "image/png": "[encoded data removed]",
      "text/plain": [
       "<Figure size 432x288 with 1 Axes>"
      ]
     },
     "metadata": {
      "needs_background": "light"
     },
     "output_type": "display_data"
    }
   ],
   "source": [
    "#tests for normality\n",
    "\n",
    "stats.probplot(model5.resid, dist=\"norm\", plot= plt)"
   ]
  },
  {
   "cell_type": "markdown",
   "metadata": {},
   "source": [
    "Here, we've tested that our sample data of homes has been drawn from a normally distributed population. Of course it is not going to be perfetly normally distributed, but we can check that it is within reason.\n",
    "\n",
    "This chart is not the same as a Q-Q plot, but it can tell us the information we need. Essentially, our models are reliable when home values fall within a certain range that is close to the median, and become unreliable when homes are very cheap or very expensive. What that tells me is that most homes fall within a certain range, and homes with prices on the extremes have different criteria for pricing or have one or more variables that are outliers. \n",
    "\n",
    "This does not entirely invalidate our model, but it does set limitations on it. Following our .describe() data from our exploratory data analysis, we could say that our model is useful for homes between 322,000 and 645,000 dollars, and a person with a home with a price outside that range will find our model less and less useful the further away from that range the price is."
   ]
  },
  {
   "cell_type": "code",
   "execution_count": 86,
   "metadata": {},
   "outputs": [
    {
     "data": {
      "text/plain": [
       "<matplotlib.collections.PathCollection at 0x1ec72ef3040>"
      ]
     },
     "execution_count": 86,
     "metadata": {},
     "output_type": "execute_result"
    },
    {
     "data": {
      "image/png": "[encoded data removed]",
      "text/plain": [
       "<Figure size 432x288 with 1 Axes>"
      ]
     },
     "metadata": {
      "needs_background": "light"
     },
     "output_type": "display_data"
    }
   ],
   "source": [
    "#tests for homoscedasity\n",
    "lr = LinearRegression()\n",
    "lr.fit(model5_x, target)\n",
    "y_hat = lr.predict(model5_x)\n",
    "resid = (target - y_hat)\n",
    "\n",
    "plt.scatter(x = range(y_hat.shape[0]), y=resid, alpha=0.1)\n"
   ]
  },
  {
   "cell_type": "markdown",
   "metadata": {},
   "source": [
    "Here we've tested for homoscedasity, which is the equal (or almost equal) variance in error terms across data points. In our case, it is clear that the majority of errors are close the 0 line, and there is no distinct shape or pattern that is created by the data points in the above chart. This visual test lets us reasonably assume that there is no pattern in the errors, and we have passed the test for homoscedasity. "
   ]
  },
  {
   "cell_type": "markdown",
   "metadata": {},
   "source": [
    "Now we will scale the features to determine how impactful they are to the model. The larger the value, the more impactful.\n",
    "\n",
    "These will effectively be the most important things for homeowners to adddress before they put their home on the market."
   ]
  },
  {
   "cell_type": "code",
   "execution_count": 77,
   "metadata": {},
   "outputs": [],
   "source": [
    "ss = StandardScaler()"
   ]
  },
  {
   "cell_type": "code",
   "execution_count": 109,
   "metadata": {},
   "outputs": [
    {
     "data": {
      "text/html": [
       "<table class=\"simpletable\">\n",
       "<caption>OLS Regression Results</caption>\n",
       "<tr>\n",
       "  <th>Dep. Variable:</th>          <td>price</td>      <th>  R-squared:         </th>  <td>   0.702</td>  \n",
       "</tr>\n",
       "<tr>\n",
       "  <th>Model:</th>                   <td>OLS</td>       <th>  Adj. R-squared:    </th>  <td>   0.702</td>  \n",
       "</tr>\n",
       "<tr>\n",
       "  <th>Method:</th>             <td>Least Squares</td>  <th>  F-statistic:       </th>  <td>   4239.</td>  \n",
       "</tr>\n",
       "<tr>\n",
       "  <th>Date:</th>             <td>Sat, 16 Jul 2022</td> <th>  Prob (F-statistic):</th>   <td>  0.00</td>   \n",
       "</tr>\n",
       "<tr>\n",
       "  <th>Time:</th>                 <td>19:07:21</td>     <th>  Log-Likelihood:    </th> <td>-2.9431e+05</td>\n",
       "</tr>\n",
       "<tr>\n",
       "  <th>No. Observations:</th>      <td> 21597</td>      <th>  AIC:               </th>  <td>5.887e+05</td> \n",
       "</tr>\n",
       "<tr>\n",
       "  <th>Df Residuals:</th>          <td> 21584</td>      <th>  BIC:               </th>  <td>5.888e+05</td> \n",
       "</tr>\n",
       "<tr>\n",
       "  <th>Df Model:</th>              <td>    12</td>      <th>                     </th>      <td> </td>     \n",
       "</tr>\n",
       "<tr>\n",
       "  <th>Covariance Type:</th>      <td>nonrobust</td>    <th>                     </th>      <td> </td>     \n",
       "</tr>\n",
       "</table>\n",
       "<table class=\"simpletable\">\n",
       "<tr>\n",
       "    <td></td>       <th>coef</th>     <th>std err</th>      <th>t</th>      <th>P>|t|</th>  <th>[0.025</th>    <th>0.975]</th>  \n",
       "</tr>\n",
       "<tr>\n",
       "  <th>const</th> <td> 5.403e+05</td> <td> 1364.741</td> <td>  395.897</td> <td> 0.000</td> <td> 5.38e+05</td> <td> 5.43e+05</td>\n",
       "</tr>\n",
       "<tr>\n",
       "  <th>x1</th>    <td>-3.901e-12</td> <td> 4.97e-13</td> <td>   -7.845</td> <td> 0.000</td> <td>-4.88e-12</td> <td>-2.93e-12</td>\n",
       "</tr>\n",
       "<tr>\n",
       "  <th>x2</th>    <td> 8123.5271</td> <td> 1974.459</td> <td>    4.114</td> <td> 0.000</td> <td> 4253.442</td> <td>  1.2e+04</td>\n",
       "</tr>\n",
       "<tr>\n",
       "  <th>x3</th>    <td> 5.491e+04</td> <td> 1458.532</td> <td>   37.649</td> <td> 0.000</td> <td> 5.21e+04</td> <td> 5.78e+04</td>\n",
       "</tr>\n",
       "<tr>\n",
       "  <th>x4</th>    <td> 3.779e+04</td> <td> 1562.817</td> <td>   24.184</td> <td> 0.000</td> <td> 3.47e+04</td> <td> 4.09e+04</td>\n",
       "</tr>\n",
       "<tr>\n",
       "  <th>x5</th>    <td> 2.195e+04</td> <td> 1488.196</td> <td>   14.749</td> <td> 0.000</td> <td>  1.9e+04</td> <td> 2.49e+04</td>\n",
       "</tr>\n",
       "<tr>\n",
       "  <th>x6</th>    <td> 1.474e+05</td> <td> 2274.009</td> <td>   64.834</td> <td> 0.000</td> <td> 1.43e+05</td> <td> 1.52e+05</td>\n",
       "</tr>\n",
       "<tr>\n",
       "  <th>x7</th>    <td>-6.396e+04</td> <td> 1863.705</td> <td>  -34.321</td> <td> 0.000</td> <td>-6.76e+04</td> <td>-6.03e+04</td>\n",
       "</tr>\n",
       "<tr>\n",
       "  <th>x8</th>    <td> 1.222e+04</td> <td> 1426.778</td> <td>    8.562</td> <td> 0.000</td> <td> 9419.991</td> <td>  1.5e+04</td>\n",
       "</tr>\n",
       "<tr>\n",
       "  <th>x9</th>    <td> 7.726e+04</td> <td> 1429.364</td> <td>   54.050</td> <td> 0.000</td> <td> 7.45e+04</td> <td> 8.01e+04</td>\n",
       "</tr>\n",
       "<tr>\n",
       "  <th>x10</th>   <td>-1.262e+04</td> <td> 1633.826</td> <td>   -7.723</td> <td> 0.000</td> <td>-1.58e+04</td> <td>-9416.192</td>\n",
       "</tr>\n",
       "<tr>\n",
       "  <th>x11</th>   <td> 4.244e+04</td> <td> 2156.583</td> <td>   19.677</td> <td> 0.000</td> <td> 3.82e+04</td> <td> 4.67e+04</td>\n",
       "</tr>\n",
       "<tr>\n",
       "  <th>x12</th>   <td>-7764.2800</td> <td> 1987.766</td> <td>   -3.906</td> <td> 0.000</td> <td>-1.17e+04</td> <td>-3868.112</td>\n",
       "</tr>\n",
       "<tr>\n",
       "  <th>x13</th>   <td> 1.268e+05</td> <td> 1829.104</td> <td>   69.304</td> <td> 0.000</td> <td> 1.23e+05</td> <td>  1.3e+05</td>\n",
       "</tr>\n",
       "</table>\n",
       "<table class=\"simpletable\">\n",
       "<tr>\n",
       "  <th>Omnibus:</th>       <td>13964.327</td> <th>  Durbin-Watson:     </th>  <td>   1.987</td>  \n",
       "</tr>\n",
       "<tr>\n",
       "  <th>Prob(Omnibus):</th>  <td> 0.000</td>   <th>  Jarque-Bera (JB):  </th> <td>1001147.954</td>\n",
       "</tr>\n",
       "<tr>\n",
       "  <th>Skew:</th>           <td> 2.361</td>   <th>  Prob(JB):          </th>  <td>    0.00</td>  \n",
       "</tr>\n",
       "<tr>\n",
       "  <th>Kurtosis:</th>       <td>36.019</td>   <th>  Cond. No.          </th>  <td>1.20e+16</td>  \n",
       "</tr>\n",
       "</table><br/><br/>Notes:<br/>[1] Standard Errors assume that the covariance matrix of the errors is correctly specified.<br/>[2] The smallest eigenvalue is 4.46e-28. This might indicate that there are<br/>strong multicollinearity problems or that the design matrix is singular."
      ],
      "text/plain": [
       "<class 'statsmodels.iolib.summary.Summary'>\n",
       "\"\"\"\n",
       "                            OLS Regression Results                            \n",
       "==============================================================================\n",
       "Dep. Variable:                  price   R-squared:                       0.702\n",
       "Model:                            OLS   Adj. R-squared:                  0.702\n",
       "Method:                 Least Squares   F-statistic:                     4239.\n",
       "Date:                Sat, 16 Jul 2022   Prob (F-statistic):               0.00\n",
       "Time:                        19:07:21   Log-Likelihood:            -2.9431e+05\n",
       "No. Observations:               21597   AIC:                         5.887e+05\n",
       "Df Residuals:                   21584   BIC:                         5.888e+05\n",
       "Df Model:                          12                                         \n",
       "Covariance Type:            nonrobust                                         \n",
       "==============================================================================\n",
       "                 coef    std err          t      P>|t|      [0.025      0.975]\n",
       "------------------------------------------------------------------------------\n",
       "const       5.403e+05   1364.741    395.897      0.000    5.38e+05    5.43e+05\n",
       "x1         -3.901e-12   4.97e-13     -7.845      0.000   -4.88e-12   -2.93e-12\n",
       "x2          8123.5271   1974.459      4.114      0.000    4253.442     1.2e+04\n",
       "x3          5.491e+04   1458.532     37.649      0.000    5.21e+04    5.78e+04\n",
       "x4          3.779e+04   1562.817     24.184      0.000    3.47e+04    4.09e+04\n",
       "x5          2.195e+04   1488.196     14.749      0.000     1.9e+04    2.49e+04\n",
       "x6          1.474e+05   2274.009     64.834      0.000    1.43e+05    1.52e+05\n",
       "x7         -6.396e+04   1863.705    -34.321      0.000   -6.76e+04   -6.03e+04\n",
       "x8          1.222e+04   1426.778      8.562      0.000    9419.991     1.5e+04\n",
       "x9          7.726e+04   1429.364     54.050      0.000    7.45e+04    8.01e+04\n",
       "x10        -1.262e+04   1633.826     -7.723      0.000   -1.58e+04   -9416.192\n",
       "x11         4.244e+04   2156.583     19.677      0.000    3.82e+04    4.67e+04\n",
       "x12        -7764.2800   1987.766     -3.906      0.000   -1.17e+04   -3868.112\n",
       "x13         1.268e+05   1829.104     69.304      0.000    1.23e+05     1.3e+05\n",
       "==============================================================================\n",
       "Omnibus:                    13964.327   Durbin-Watson:                   1.987\n",
       "Prob(Omnibus):                  0.000   Jarque-Bera (JB):          1001147.954\n",
       "Skew:                           2.361   Prob(JB):                         0.00\n",
       "Kurtosis:                      36.019   Cond. No.                     1.20e+16\n",
       "==============================================================================\n",
       "\n",
       "Notes:\n",
       "[1] Standard Errors assume that the covariance matrix of the errors is correctly specified.\n",
       "[2] The smallest eigenvalue is 4.46e-28. This might indicate that there are\n",
       "strong multicollinearity problems or that the design matrix is singular.\n",
       "\"\"\""
      ]
     },
     "execution_count": 109,
     "metadata": {},
     "output_type": "execute_result"
    }
   ],
   "source": [
    "ss.fit(model5_x)\n",
    "\n",
    "scaled_factors = ss.transform(model5_x)\n",
    "\n",
    "scaled_model = sm.OLS(target, sm.add_constant(scaled_factors)).fit()\n",
    "\n",
    "scaled_model.summary()"
   ]
  },
  {
   "cell_type": "markdown",
   "metadata": {},
   "source": [
    "So grade, livable area, latitude, waterfront, sqft_living 15, view, condition, yr_renovated, and sqft_lot all are positive drivers of price, in order to most to least effect.\n",
    "\n",
    "Grade, livable area, condition, and yr_renovated are the ones that homeowners have control over, in order of most to least impactful."
   ]
  },
  {
   "cell_type": "markdown",
   "metadata": {},
   "source": [
    "## Conclusion"
   ]
  },
  {
   "cell_type": "markdown",
   "metadata": {},
   "source": [
    "In conclusion, we have determined what the features of a home have the most impact on price. \n",
    "\n",
    "There are three factors that negatively affect price: the year the home was built, the longitude coordinate, and the lot size of the 15 nearest homes.\n",
    "\n",
    "The remaining are positive drivers of price. Here is those factors, ranked from most impactful to least:\n",
    " - Grade\n",
    " - Livable Area (bedrooms x bathrooms x sqft_living)\n",
    " - Latitude\n",
    " - Waterfront\n",
    " - Sqft-living15\n",
    " - View\n",
    " - Condition\n",
    " - Year Renovated\n",
    " - Square footage of the lot\n",
    " \n",
    "Of these positive influences, homeowners have direct control of Grade, Livable Area, Condition, and Year Renovated. Below are suggestions on how to improve each metric in order to drive up home price.\n",
    "\n",
    "### Grade\n",
    "There are several things homeowners can do to improve grade. However, many of them are larger, more expensive projects. Because of that, making these changes can also impact your \"year renovated\" factor.\n",
    "\n",
    "Items homeowners can tackle include:\n",
    " - Upgrade wood finishes\n",
    " - Upgrade countertops (replace linoleum with marble)\n",
    " - Update the plumbing system\n",
    " - Redo the insulation\n",
    " - Fix or replace roof\n",
    " \n",
    "### Livable Area\n",
    "Improving this factor means increasing the usable space in your home. This can include turning a media room into a bedroom, turning a laundry room into a bathroom, or enclosing a part of your house such as a patio.\n",
    "\n",
    "The limitation with enclosing areas is that it can sometimes ruin selling points of a home. For instance, if one of the major selling points of a home is a being back porch that overlooks a lake, it might not be best to enclose that area. \n",
    "\n",
    "### Condition\n",
    "This really means cleaning the home and making smaller repairs before presenting the home to buyers. Items to handle include:\n",
    " - vacuuming carpets\n",
    " - touching up paint\n",
    " - ensuring electrical outlets work\n",
    " - fixing leaky faucets\n",
    " \n",
    "So with this analysis, homeowners have the numbers backing some things that might have intuitively known (such as renovating your home to increase value), and might have had their eyes opened to features they can highlight or include in their listings. "
   ]
  },
  {
   "cell_type": "code",
   "execution_count": null,
   "metadata": {},
   "outputs": [],
   "source": []
  }
 ],
 "metadata": {
  "kernelspec": {
   "display_name": "Python 3",
   "language": "python",
   "name": "python3"
  },
  "language_info": {
   "codemirror_mode": {
    "name": "ipython",
    "version": 3
   },
   "file_extension": ".py",
   "mimetype": "text/x-python",
   "name": "python",
   "nbconvert_exporter": "python",
   "pygments_lexer": "ipython3",
   "version": "3.8.5"
  }
 },
 "nbformat": 4,
 "nbformat_minor": 4
}
